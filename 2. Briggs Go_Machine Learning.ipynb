{
 "cells": [
  {
   "cell_type": "markdown",
   "source": [
    "# Briggs GO\n",
    "MBTI Test using AI/ML\n"
   ],
   "metadata": {
    "collapsed": false
   }
  },
  {
   "cell_type": "code",
   "execution_count": 1,
   "outputs": [],
   "source": [
    "\"\"\"\n",
    "Using Modin might be upto 10x faster than pandas, but it is not stable yet.\n",
    "\"\"\"\n",
    "use_modin = False\n",
    "if use_modin:\n",
    "    from distributed import Client\n",
    "    client = Client()\n",
    "    import modin.pandas as pd\n",
    "else:\n",
    "    import pandas as pd\n",
    "\n",
    "# Classifiers\n",
    "from catboost import CatBoostClassifier\n",
    "from sklearn.linear_model import LogisticRegression\n",
    "from sklearn.ensemble import RandomForestClassifier\n",
    "from xgboost import XGBClassifier\n",
    "from sklearn.naive_bayes import MultinomialNB\n",
    "\n",
    "\n",
    "import numpy as np\n",
    "import matplotlib.pyplot as plt"
   ],
   "metadata": {
    "collapsed": false
   }
  },
  {
   "cell_type": "markdown",
   "source": [
    "## Loading Data"
   ],
   "metadata": {
    "collapsed": false
   }
  },
  {
   "cell_type": "code",
   "execution_count": 2,
   "outputs": [],
   "source": [
    "df = pd.read_csv(\"dataset/mbti_1.csv\")"
   ],
   "metadata": {
    "collapsed": false
   }
  },
  {
   "cell_type": "code",
   "execution_count": 3,
   "outputs": [
    {
     "data": {
      "text/plain": "   type                                              posts\n0  INFJ  'http://www.youtube.com/watch?v=qsXHcwe3krw|||...\n1  ENTP  'I'm finding the lack of me in these posts ver...\n2  INTP  'Good one  _____   https://www.youtube.com/wat...\n3  INTJ  'Dear INTP,   I enjoyed our conversation the o...\n4  ENTJ  'You're fired.|||That's another silly misconce...",
      "text/html": "<div>\n<style scoped>\n    .dataframe tbody tr th:only-of-type {\n        vertical-align: middle;\n    }\n\n    .dataframe tbody tr th {\n        vertical-align: top;\n    }\n\n    .dataframe thead th {\n        text-align: right;\n    }\n</style>\n<table border=\"1\" class=\"dataframe\">\n  <thead>\n    <tr style=\"text-align: right;\">\n      <th></th>\n      <th>type</th>\n      <th>posts</th>\n    </tr>\n  </thead>\n  <tbody>\n    <tr>\n      <th>0</th>\n      <td>INFJ</td>\n      <td>'http://www.youtube.com/watch?v=qsXHcwe3krw|||...</td>\n    </tr>\n    <tr>\n      <th>1</th>\n      <td>ENTP</td>\n      <td>'I'm finding the lack of me in these posts ver...</td>\n    </tr>\n    <tr>\n      <th>2</th>\n      <td>INTP</td>\n      <td>'Good one  _____   https://www.youtube.com/wat...</td>\n    </tr>\n    <tr>\n      <th>3</th>\n      <td>INTJ</td>\n      <td>'Dear INTP,   I enjoyed our conversation the o...</td>\n    </tr>\n    <tr>\n      <th>4</th>\n      <td>ENTJ</td>\n      <td>'You're fired.|||That's another silly misconce...</td>\n    </tr>\n  </tbody>\n</table>\n</div>"
     },
     "execution_count": 3,
     "metadata": {},
     "output_type": "execute_result"
    }
   ],
   "source": [
    "df.head()"
   ],
   "metadata": {
    "collapsed": false
   }
  },
  {
   "cell_type": "markdown",
   "source": [
    "## Preprocessing Data"
   ],
   "metadata": {
    "collapsed": false
   }
  },
  {
   "cell_type": "markdown",
   "source": [
    "### Data Before Preprocessing"
   ],
   "metadata": {
    "collapsed": false
   }
  },
  {
   "cell_type": "code",
   "execution_count": 4,
   "outputs": [
    {
     "data": {
      "text/plain": "   type                                              posts\n0  INFJ  'http://www.youtube.com/watch?v=qsXHcwe3krw|||...\n1  ENTP  'I'm finding the lack of me in these posts ver...\n2  INTP  'Good one  _____   https://www.youtube.com/wat...\n3  INTJ  'Dear INTP,   I enjoyed our conversation the o...\n4  ENTJ  'You're fired.|||That's another silly misconce...",
      "text/html": "<div>\n<style scoped>\n    .dataframe tbody tr th:only-of-type {\n        vertical-align: middle;\n    }\n\n    .dataframe tbody tr th {\n        vertical-align: top;\n    }\n\n    .dataframe thead th {\n        text-align: right;\n    }\n</style>\n<table border=\"1\" class=\"dataframe\">\n  <thead>\n    <tr style=\"text-align: right;\">\n      <th></th>\n      <th>type</th>\n      <th>posts</th>\n    </tr>\n  </thead>\n  <tbody>\n    <tr>\n      <th>0</th>\n      <td>INFJ</td>\n      <td>'http://www.youtube.com/watch?v=qsXHcwe3krw|||...</td>\n    </tr>\n    <tr>\n      <th>1</th>\n      <td>ENTP</td>\n      <td>'I'm finding the lack of me in these posts ver...</td>\n    </tr>\n    <tr>\n      <th>2</th>\n      <td>INTP</td>\n      <td>'Good one  _____   https://www.youtube.com/wat...</td>\n    </tr>\n    <tr>\n      <th>3</th>\n      <td>INTJ</td>\n      <td>'Dear INTP,   I enjoyed our conversation the o...</td>\n    </tr>\n    <tr>\n      <th>4</th>\n      <td>ENTJ</td>\n      <td>'You're fired.|||That's another silly misconce...</td>\n    </tr>\n  </tbody>\n</table>\n</div>"
     },
     "execution_count": 4,
     "metadata": {},
     "output_type": "execute_result"
    }
   ],
   "source": [
    "df.head()"
   ],
   "metadata": {
    "collapsed": false
   }
  },
  {
   "cell_type": "markdown",
   "source": [
    "### Removing URL"
   ],
   "metadata": {
    "collapsed": false
   }
  },
  {
   "cell_type": "code",
   "execution_count": 5,
   "outputs": [],
   "source": [
    "import re"
   ],
   "metadata": {
    "collapsed": false
   }
  },
  {
   "cell_type": "code",
   "execution_count": 6,
   "outputs": [],
   "source": [
    "def remove_url(text):\n",
    "    url = re.compile(r'https?://\\S+|www\\.\\S+')\n",
    "    return url.sub(r'', text)"
   ],
   "metadata": {
    "collapsed": false
   }
  },
  {
   "cell_type": "code",
   "execution_count": 7,
   "outputs": [],
   "source": [
    "df['posts'] = df['posts'].apply(lambda x: remove_url(x))"
   ],
   "metadata": {
    "collapsed": false
   }
  },
  {
   "cell_type": "code",
   "execution_count": 8,
   "outputs": [
    {
     "data": {
      "text/plain": "   type                                              posts\n0  INFJ  ' and intj moments    sportscenter not top ten...\n1  ENTP  'I'm finding the lack of me in these posts ver...\n2  INTP  'Good one  _____    course, to which I say I k...\n3  INTJ  'Dear INTP,   I enjoyed our conversation the o...\n4  ENTJ  'You're fired.|||That's another silly misconce...",
      "text/html": "<div>\n<style scoped>\n    .dataframe tbody tr th:only-of-type {\n        vertical-align: middle;\n    }\n\n    .dataframe tbody tr th {\n        vertical-align: top;\n    }\n\n    .dataframe thead th {\n        text-align: right;\n    }\n</style>\n<table border=\"1\" class=\"dataframe\">\n  <thead>\n    <tr style=\"text-align: right;\">\n      <th></th>\n      <th>type</th>\n      <th>posts</th>\n    </tr>\n  </thead>\n  <tbody>\n    <tr>\n      <th>0</th>\n      <td>INFJ</td>\n      <td>' and intj moments    sportscenter not top ten...</td>\n    </tr>\n    <tr>\n      <th>1</th>\n      <td>ENTP</td>\n      <td>'I'm finding the lack of me in these posts ver...</td>\n    </tr>\n    <tr>\n      <th>2</th>\n      <td>INTP</td>\n      <td>'Good one  _____    course, to which I say I k...</td>\n    </tr>\n    <tr>\n      <th>3</th>\n      <td>INTJ</td>\n      <td>'Dear INTP,   I enjoyed our conversation the o...</td>\n    </tr>\n    <tr>\n      <th>4</th>\n      <td>ENTJ</td>\n      <td>'You're fired.|||That's another silly misconce...</td>\n    </tr>\n  </tbody>\n</table>\n</div>"
     },
     "execution_count": 8,
     "metadata": {},
     "output_type": "execute_result"
    }
   ],
   "source": [
    "df.head()"
   ],
   "metadata": {
    "collapsed": false
   }
  },
  {
   "cell_type": "markdown",
   "source": [
    "## Data Normalization"
   ],
   "metadata": {
    "collapsed": false
   }
  },
  {
   "cell_type": "code",
   "execution_count": 9,
   "outputs": [],
   "source": [
    "def remove_punctuation(text):\n",
    "    table = re.sub(r'[^\\w\\s]', ' ', text)\n",
    "    return table\n",
    "\n",
    "def remove_underscore(text):\n",
    "    table = re.sub(r'_', ' ', text)\n",
    "    return table\n",
    "\n",
    "def remove_extra_space(text):\n",
    "    # remove extra space\n",
    "    return re.sub(r'\\s+', ' ', text)"
   ],
   "metadata": {
    "collapsed": false
   }
  },
  {
   "cell_type": "code",
   "execution_count": 10,
   "outputs": [
    {
     "data": {
      "text/plain": "   type                                              posts\n0  INFJ   and intj moments sportscenter not top ten pla...\n1  ENTP   I m finding the lack of me in these posts ver...\n2  INTP   Good one course to which I say I know that s ...\n3  INTJ   Dear INTP I enjoyed our conversation the othe...\n4  ENTJ   You re fired That s another silly misconcepti...",
      "text/html": "<div>\n<style scoped>\n    .dataframe tbody tr th:only-of-type {\n        vertical-align: middle;\n    }\n\n    .dataframe tbody tr th {\n        vertical-align: top;\n    }\n\n    .dataframe thead th {\n        text-align: right;\n    }\n</style>\n<table border=\"1\" class=\"dataframe\">\n  <thead>\n    <tr style=\"text-align: right;\">\n      <th></th>\n      <th>type</th>\n      <th>posts</th>\n    </tr>\n  </thead>\n  <tbody>\n    <tr>\n      <th>0</th>\n      <td>INFJ</td>\n      <td>and intj moments sportscenter not top ten pla...</td>\n    </tr>\n    <tr>\n      <th>1</th>\n      <td>ENTP</td>\n      <td>I m finding the lack of me in these posts ver...</td>\n    </tr>\n    <tr>\n      <th>2</th>\n      <td>INTP</td>\n      <td>Good one course to which I say I know that s ...</td>\n    </tr>\n    <tr>\n      <th>3</th>\n      <td>INTJ</td>\n      <td>Dear INTP I enjoyed our conversation the othe...</td>\n    </tr>\n    <tr>\n      <th>4</th>\n      <td>ENTJ</td>\n      <td>You re fired That s another silly misconcepti...</td>\n    </tr>\n  </tbody>\n</table>\n</div>"
     },
     "execution_count": 10,
     "metadata": {},
     "output_type": "execute_result"
    }
   ],
   "source": [
    "df['posts'] = df['posts'].apply(lambda x: remove_punctuation(x))\n",
    "df['posts'] = df['posts'].apply(lambda x: remove_underscore(x))\n",
    "df['posts'] = df['posts'].apply(lambda x: remove_extra_space(x))\n",
    "df.head()"
   ],
   "metadata": {
    "collapsed": false
   }
  },
  {
   "cell_type": "markdown",
   "source": [
    "### Tokenization"
   ],
   "metadata": {
    "collapsed": false
   }
  },
  {
   "cell_type": "code",
   "execution_count": 11,
   "outputs": [],
   "source": [
    "# from nltk.tokenize import word_tokenize"
   ],
   "metadata": {
    "collapsed": false
   }
  },
  {
   "cell_type": "code",
   "execution_count": 12,
   "outputs": [],
   "source": [
    "# def tokenization(text):\n",
    "#     return word_tokenize(text)"
   ],
   "metadata": {
    "collapsed": false
   }
  },
  {
   "cell_type": "code",
   "execution_count": 13,
   "outputs": [],
   "source": [
    "# df['posts'] = df['posts'].apply(lambda x: tokenization(x))"
   ],
   "metadata": {
    "collapsed": false
   }
  },
  {
   "cell_type": "code",
   "execution_count": 14,
   "outputs": [
    {
     "data": {
      "text/plain": "      type                                              posts\n0     INFJ   and intj moments sportscenter not top ten pla...\n1     ENTP   I m finding the lack of me in these posts ver...\n2     INTP   Good one course to which I say I know that s ...\n3     INTJ   Dear INTP I enjoyed our conversation the othe...\n4     ENTJ   You re fired That s another silly misconcepti...\n...    ...                                                ...\n8670  ISFP   just because I always think of cats as Fi dom...\n8671  ENFP   So if this thread already exists someplace el...\n8672  INTP   So many questions when i do these things I wo...\n8673  INFP   I am very conflicted right now when it comes ...\n8674  INFP   It has been too long since I have been on per...\n\n[8675 rows x 2 columns]",
      "text/html": "<div>\n<style scoped>\n    .dataframe tbody tr th:only-of-type {\n        vertical-align: middle;\n    }\n\n    .dataframe tbody tr th {\n        vertical-align: top;\n    }\n\n    .dataframe thead th {\n        text-align: right;\n    }\n</style>\n<table border=\"1\" class=\"dataframe\">\n  <thead>\n    <tr style=\"text-align: right;\">\n      <th></th>\n      <th>type</th>\n      <th>posts</th>\n    </tr>\n  </thead>\n  <tbody>\n    <tr>\n      <th>0</th>\n      <td>INFJ</td>\n      <td>and intj moments sportscenter not top ten pla...</td>\n    </tr>\n    <tr>\n      <th>1</th>\n      <td>ENTP</td>\n      <td>I m finding the lack of me in these posts ver...</td>\n    </tr>\n    <tr>\n      <th>2</th>\n      <td>INTP</td>\n      <td>Good one course to which I say I know that s ...</td>\n    </tr>\n    <tr>\n      <th>3</th>\n      <td>INTJ</td>\n      <td>Dear INTP I enjoyed our conversation the othe...</td>\n    </tr>\n    <tr>\n      <th>4</th>\n      <td>ENTJ</td>\n      <td>You re fired That s another silly misconcepti...</td>\n    </tr>\n    <tr>\n      <th>...</th>\n      <td>...</td>\n      <td>...</td>\n    </tr>\n    <tr>\n      <th>8670</th>\n      <td>ISFP</td>\n      <td>just because I always think of cats as Fi dom...</td>\n    </tr>\n    <tr>\n      <th>8671</th>\n      <td>ENFP</td>\n      <td>So if this thread already exists someplace el...</td>\n    </tr>\n    <tr>\n      <th>8672</th>\n      <td>INTP</td>\n      <td>So many questions when i do these things I wo...</td>\n    </tr>\n    <tr>\n      <th>8673</th>\n      <td>INFP</td>\n      <td>I am very conflicted right now when it comes ...</td>\n    </tr>\n    <tr>\n      <th>8674</th>\n      <td>INFP</td>\n      <td>It has been too long since I have been on per...</td>\n    </tr>\n  </tbody>\n</table>\n<p>8675 rows × 2 columns</p>\n</div>"
     },
     "execution_count": 14,
     "metadata": {},
     "output_type": "execute_result"
    }
   ],
   "source": [
    "df"
   ],
   "metadata": {
    "collapsed": false
   }
  },
  {
   "cell_type": "markdown",
   "source": [
    "## Split data into train and test"
   ],
   "metadata": {
    "collapsed": false
   }
  },
  {
   "cell_type": "code",
   "execution_count": 15,
   "outputs": [],
   "source": [
    "from sklearn.model_selection import train_test_split"
   ],
   "metadata": {
    "collapsed": false
   }
  },
  {
   "cell_type": "code",
   "execution_count": 16,
   "outputs": [],
   "source": [
    "X = df['posts']\n",
    "y = df['type']"
   ],
   "metadata": {
    "collapsed": false
   }
  },
  {
   "cell_type": "code",
   "execution_count": 17,
   "outputs": [],
   "source": [
    "X_train, X_test, y_train, y_test = train_test_split(X, y, test_size=0.2, random_state=42)"
   ],
   "metadata": {
    "collapsed": false
   }
  },
  {
   "cell_type": "markdown",
   "source": [
    "### Vectorization"
   ],
   "metadata": {
    "collapsed": false
   }
  },
  {
   "cell_type": "code",
   "execution_count": 18,
   "outputs": [],
   "source": [
    "from sklearn.feature_extraction.text import TfidfVectorizer"
   ],
   "metadata": {
    "collapsed": false
   }
  },
  {
   "cell_type": "code",
   "execution_count": 19,
   "outputs": [],
   "source": [
    "vectorizer = TfidfVectorizer(stop_words='english', max_features=5000)"
   ],
   "metadata": {
    "collapsed": false
   }
  },
  {
   "cell_type": "code",
   "execution_count": 20,
   "outputs": [],
   "source": [
    "X_train = vectorizer.fit_transform(X_train)\n",
    "X_test = vectorizer.transform(X_test)"
   ],
   "metadata": {
    "collapsed": false
   }
  },
  {
   "cell_type": "code",
   "execution_count": 21,
   "outputs": [],
   "source": [
    "x_train = X_train.toarray()\n",
    "x_test = X_test.toarray()"
   ],
   "metadata": {
    "collapsed": false
   }
  },
  {
   "cell_type": "code",
   "execution_count": 22,
   "outputs": [
    {
     "data": {
      "text/plain": "array([[0.        , 0.        , 0.        , ..., 0.        , 0.        ,\n        0.        ],\n       [0.        , 0.        , 0.02961654, ..., 0.        , 0.        ,\n        0.        ],\n       [0.        , 0.        , 0.        , ..., 0.        , 0.        ,\n        0.        ],\n       ...,\n       [0.        , 0.        , 0.        , ..., 0.        , 0.        ,\n        0.        ],\n       [0.        , 0.        , 0.        , ..., 0.        , 0.        ,\n        0.        ],\n       [0.        , 0.        , 0.        , ..., 0.        , 0.        ,\n        0.        ]])"
     },
     "execution_count": 22,
     "metadata": {},
     "output_type": "execute_result"
    }
   ],
   "source": [
    "x_train"
   ],
   "metadata": {
    "collapsed": false
   }
  },
  {
   "cell_type": "markdown",
   "source": [
    "### Label Encoding"
   ],
   "metadata": {
    "collapsed": false
   }
  },
  {
   "cell_type": "code",
   "execution_count": 23,
   "outputs": [],
   "source": [
    "from sklearn.preprocessing import LabelEncoder"
   ],
   "metadata": {
    "collapsed": false
   }
  },
  {
   "cell_type": "code",
   "execution_count": 24,
   "outputs": [],
   "source": [
    "le = LabelEncoder()"
   ],
   "metadata": {
    "collapsed": false
   }
  },
  {
   "cell_type": "code",
   "execution_count": 25,
   "outputs": [],
   "source": [
    "y_train = le.fit_transform(y_train)\n",
    "y_test = le.transform(y_test)"
   ],
   "metadata": {
    "collapsed": false
   }
  },
  {
   "cell_type": "code",
   "execution_count": 26,
   "outputs": [
    {
     "data": {
      "text/plain": "array([11, 10, 11, ...,  8, 14, 11])"
     },
     "execution_count": 26,
     "metadata": {},
     "output_type": "execute_result"
    }
   ],
   "source": [
    "y_test"
   ],
   "metadata": {
    "collapsed": false
   }
  },
  {
   "cell_type": "markdown",
   "source": [
    "## Model Building"
   ],
   "metadata": {
    "collapsed": false
   }
  },
  {
   "cell_type": "code",
   "execution_count": 27,
   "outputs": [],
   "source": [
    "model_accuracy = {}"
   ],
   "metadata": {
    "collapsed": false
   }
  },
  {
   "cell_type": "markdown",
   "source": [
    "### Logistic Regression"
   ],
   "metadata": {
    "collapsed": false
   }
  },
  {
   "cell_type": "code",
   "execution_count": 29,
   "outputs": [],
   "source": [
    "lr = LogisticRegression()"
   ],
   "metadata": {
    "collapsed": false
   }
  },
  {
   "cell_type": "code",
   "execution_count": 30,
   "outputs": [
    {
     "name": "stderr",
     "output_type": "stream",
     "text": [
      "C:\\Users\\Rico Fitra Pratama\\.conda\\envs\\AI-ML\\lib\\site-packages\\sklearn\\linear_model\\_logistic.py:458: ConvergenceWarning: lbfgs failed to converge (status=1):\n",
      "STOP: TOTAL NO. of ITERATIONS REACHED LIMIT.\n",
      "\n",
      "Increase the number of iterations (max_iter) or scale the data as shown in:\n",
      "    https://scikit-learn.org/stable/modules/preprocessing.html\n",
      "Please also refer to the documentation for alternative solver options:\n",
      "    https://scikit-learn.org/stable/modules/linear_model.html#logistic-regression\n",
      "  n_iter_i = _check_optimize_result(\n"
     ]
    },
    {
     "data": {
      "text/plain": "LogisticRegression()",
      "text/html": "<style>#sk-container-id-1 {color: black;background-color: white;}#sk-container-id-1 pre{padding: 0;}#sk-container-id-1 div.sk-toggleable {background-color: white;}#sk-container-id-1 label.sk-toggleable__label {cursor: pointer;display: block;width: 100%;margin-bottom: 0;padding: 0.3em;box-sizing: border-box;text-align: center;}#sk-container-id-1 label.sk-toggleable__label-arrow:before {content: \"▸\";float: left;margin-right: 0.25em;color: #696969;}#sk-container-id-1 label.sk-toggleable__label-arrow:hover:before {color: black;}#sk-container-id-1 div.sk-estimator:hover label.sk-toggleable__label-arrow:before {color: black;}#sk-container-id-1 div.sk-toggleable__content {max-height: 0;max-width: 0;overflow: hidden;text-align: left;background-color: #f0f8ff;}#sk-container-id-1 div.sk-toggleable__content pre {margin: 0.2em;color: black;border-radius: 0.25em;background-color: #f0f8ff;}#sk-container-id-1 input.sk-toggleable__control:checked~div.sk-toggleable__content {max-height: 200px;max-width: 100%;overflow: auto;}#sk-container-id-1 input.sk-toggleable__control:checked~label.sk-toggleable__label-arrow:before {content: \"▾\";}#sk-container-id-1 div.sk-estimator input.sk-toggleable__control:checked~label.sk-toggleable__label {background-color: #d4ebff;}#sk-container-id-1 div.sk-label input.sk-toggleable__control:checked~label.sk-toggleable__label {background-color: #d4ebff;}#sk-container-id-1 input.sk-hidden--visually {border: 0;clip: rect(1px 1px 1px 1px);clip: rect(1px, 1px, 1px, 1px);height: 1px;margin: -1px;overflow: hidden;padding: 0;position: absolute;width: 1px;}#sk-container-id-1 div.sk-estimator {font-family: monospace;background-color: #f0f8ff;border: 1px dotted black;border-radius: 0.25em;box-sizing: border-box;margin-bottom: 0.5em;}#sk-container-id-1 div.sk-estimator:hover {background-color: #d4ebff;}#sk-container-id-1 div.sk-parallel-item::after {content: \"\";width: 100%;border-bottom: 1px solid gray;flex-grow: 1;}#sk-container-id-1 div.sk-label:hover label.sk-toggleable__label {background-color: #d4ebff;}#sk-container-id-1 div.sk-serial::before {content: \"\";position: absolute;border-left: 1px solid gray;box-sizing: border-box;top: 0;bottom: 0;left: 50%;z-index: 0;}#sk-container-id-1 div.sk-serial {display: flex;flex-direction: column;align-items: center;background-color: white;padding-right: 0.2em;padding-left: 0.2em;position: relative;}#sk-container-id-1 div.sk-item {position: relative;z-index: 1;}#sk-container-id-1 div.sk-parallel {display: flex;align-items: stretch;justify-content: center;background-color: white;position: relative;}#sk-container-id-1 div.sk-item::before, #sk-container-id-1 div.sk-parallel-item::before {content: \"\";position: absolute;border-left: 1px solid gray;box-sizing: border-box;top: 0;bottom: 0;left: 50%;z-index: -1;}#sk-container-id-1 div.sk-parallel-item {display: flex;flex-direction: column;z-index: 1;position: relative;background-color: white;}#sk-container-id-1 div.sk-parallel-item:first-child::after {align-self: flex-end;width: 50%;}#sk-container-id-1 div.sk-parallel-item:last-child::after {align-self: flex-start;width: 50%;}#sk-container-id-1 div.sk-parallel-item:only-child::after {width: 0;}#sk-container-id-1 div.sk-dashed-wrapped {border: 1px dashed gray;margin: 0 0.4em 0.5em 0.4em;box-sizing: border-box;padding-bottom: 0.4em;background-color: white;}#sk-container-id-1 div.sk-label label {font-family: monospace;font-weight: bold;display: inline-block;line-height: 1.2em;}#sk-container-id-1 div.sk-label-container {text-align: center;}#sk-container-id-1 div.sk-container {/* jupyter's `normalize.less` sets `[hidden] { display: none; }` but bootstrap.min.css set `[hidden] { display: none !important; }` so we also need the `!important` here to be able to override the default hidden behavior on the sphinx rendered scikit-learn.org. See: https://github.com/scikit-learn/scikit-learn/issues/21755 */display: inline-block !important;position: relative;}#sk-container-id-1 div.sk-text-repr-fallback {display: none;}</style><div id=\"sk-container-id-1\" class=\"sk-top-container\"><div class=\"sk-text-repr-fallback\"><pre>LogisticRegression()</pre><b>In a Jupyter environment, please rerun this cell to show the HTML representation or trust the notebook. <br />On GitHub, the HTML representation is unable to render, please try loading this page with nbviewer.org.</b></div><div class=\"sk-container\" hidden><div class=\"sk-item\"><div class=\"sk-estimator sk-toggleable\"><input class=\"sk-toggleable__control sk-hidden--visually\" id=\"sk-estimator-id-1\" type=\"checkbox\" checked><label for=\"sk-estimator-id-1\" class=\"sk-toggleable__label sk-toggleable__label-arrow\">LogisticRegression</label><div class=\"sk-toggleable__content\"><pre>LogisticRegression()</pre></div></div></div></div></div>"
     },
     "execution_count": 30,
     "metadata": {},
     "output_type": "execute_result"
    }
   ],
   "source": [
    "lr.fit(x_train, y_train)"
   ],
   "metadata": {
    "collapsed": false
   }
  },
  {
   "cell_type": "code",
   "execution_count": 31,
   "outputs": [],
   "source": [
    "lr_pred = lr.predict(x_test)"
   ],
   "metadata": {
    "collapsed": false
   }
  },
  {
   "cell_type": "code",
   "execution_count": 32,
   "outputs": [],
   "source": [
    "lr_acc = lr.score(x_test, y_test)"
   ],
   "metadata": {
    "collapsed": false
   }
  },
  {
   "cell_type": "code",
   "execution_count": 33,
   "outputs": [],
   "source": [
    "model_accuracy['Logistic Regression'] = lr_acc"
   ],
   "metadata": {
    "collapsed": false
   }
  },
  {
   "cell_type": "code",
   "execution_count": 34,
   "outputs": [
    {
     "data": {
      "text/plain": "0.6530259365994237"
     },
     "execution_count": 34,
     "metadata": {},
     "output_type": "execute_result"
    }
   ],
   "source": [
    "lr_acc"
   ],
   "metadata": {
    "collapsed": false
   }
  },
  {
   "cell_type": "code",
   "execution_count": 35,
   "outputs": [],
   "source": [
    "from sklearn.metrics import classification_report"
   ],
   "metadata": {
    "collapsed": false
   }
  },
  {
   "cell_type": "code",
   "execution_count": 36,
   "outputs": [],
   "source": [
    "cr = classification_report(y_test, lr_pred, target_names=le.classes_, zero_division=0)"
   ],
   "metadata": {
    "collapsed": false
   }
  },
  {
   "cell_type": "code",
   "execution_count": 37,
   "outputs": [
    {
     "name": "stdout",
     "output_type": "stream",
     "text": [
      "Classification Report For Logistic Regression:\n",
      "              precision    recall  f1-score   support\n",
      "\n",
      "        ENFJ       0.45      0.12      0.19        41\n",
      "        ENFP       0.72      0.58      0.65       125\n",
      "        ENTJ       0.70      0.36      0.48        44\n",
      "        ENTP       0.72      0.59      0.65       135\n",
      "        ESFJ       0.00      0.00      0.00         7\n",
      "        ESFP       0.00      0.00      0.00         8\n",
      "        ESTJ       0.00      0.00      0.00         7\n",
      "        ESTP       1.00      0.13      0.24        15\n",
      "        INFJ       0.64      0.69      0.67       288\n",
      "        INFP       0.61      0.85      0.71       370\n",
      "        INTJ       0.60      0.72      0.66       193\n",
      "        INTP       0.68      0.81      0.74       293\n",
      "        ISFJ       1.00      0.29      0.45        45\n",
      "        ISFP       0.74      0.26      0.39        53\n",
      "        ISTJ       0.69      0.25      0.37        44\n",
      "        ISTP       0.74      0.46      0.57        67\n",
      "\n",
      "    accuracy                           0.65      1735\n",
      "   macro avg       0.58      0.38      0.42      1735\n",
      "weighted avg       0.66      0.65      0.63      1735\n",
      "\n"
     ]
    }
   ],
   "source": [
    "print(f\"Classification Report For Logistic Regression:\\n{cr}\")"
   ],
   "metadata": {
    "collapsed": false
   }
  },
  {
   "cell_type": "markdown",
   "source": [
    "### Random Forest"
   ],
   "metadata": {
    "collapsed": false
   }
  },
  {
   "cell_type": "code",
   "execution_count": 39,
   "outputs": [],
   "source": [
    "rf = RandomForestClassifier()"
   ],
   "metadata": {
    "collapsed": false
   }
  },
  {
   "cell_type": "code",
   "execution_count": 40,
   "outputs": [
    {
     "data": {
      "text/plain": "RandomForestClassifier()",
      "text/html": "<style>#sk-container-id-2 {color: black;background-color: white;}#sk-container-id-2 pre{padding: 0;}#sk-container-id-2 div.sk-toggleable {background-color: white;}#sk-container-id-2 label.sk-toggleable__label {cursor: pointer;display: block;width: 100%;margin-bottom: 0;padding: 0.3em;box-sizing: border-box;text-align: center;}#sk-container-id-2 label.sk-toggleable__label-arrow:before {content: \"▸\";float: left;margin-right: 0.25em;color: #696969;}#sk-container-id-2 label.sk-toggleable__label-arrow:hover:before {color: black;}#sk-container-id-2 div.sk-estimator:hover label.sk-toggleable__label-arrow:before {color: black;}#sk-container-id-2 div.sk-toggleable__content {max-height: 0;max-width: 0;overflow: hidden;text-align: left;background-color: #f0f8ff;}#sk-container-id-2 div.sk-toggleable__content pre {margin: 0.2em;color: black;border-radius: 0.25em;background-color: #f0f8ff;}#sk-container-id-2 input.sk-toggleable__control:checked~div.sk-toggleable__content {max-height: 200px;max-width: 100%;overflow: auto;}#sk-container-id-2 input.sk-toggleable__control:checked~label.sk-toggleable__label-arrow:before {content: \"▾\";}#sk-container-id-2 div.sk-estimator input.sk-toggleable__control:checked~label.sk-toggleable__label {background-color: #d4ebff;}#sk-container-id-2 div.sk-label input.sk-toggleable__control:checked~label.sk-toggleable__label {background-color: #d4ebff;}#sk-container-id-2 input.sk-hidden--visually {border: 0;clip: rect(1px 1px 1px 1px);clip: rect(1px, 1px, 1px, 1px);height: 1px;margin: -1px;overflow: hidden;padding: 0;position: absolute;width: 1px;}#sk-container-id-2 div.sk-estimator {font-family: monospace;background-color: #f0f8ff;border: 1px dotted black;border-radius: 0.25em;box-sizing: border-box;margin-bottom: 0.5em;}#sk-container-id-2 div.sk-estimator:hover {background-color: #d4ebff;}#sk-container-id-2 div.sk-parallel-item::after {content: \"\";width: 100%;border-bottom: 1px solid gray;flex-grow: 1;}#sk-container-id-2 div.sk-label:hover label.sk-toggleable__label {background-color: #d4ebff;}#sk-container-id-2 div.sk-serial::before {content: \"\";position: absolute;border-left: 1px solid gray;box-sizing: border-box;top: 0;bottom: 0;left: 50%;z-index: 0;}#sk-container-id-2 div.sk-serial {display: flex;flex-direction: column;align-items: center;background-color: white;padding-right: 0.2em;padding-left: 0.2em;position: relative;}#sk-container-id-2 div.sk-item {position: relative;z-index: 1;}#sk-container-id-2 div.sk-parallel {display: flex;align-items: stretch;justify-content: center;background-color: white;position: relative;}#sk-container-id-2 div.sk-item::before, #sk-container-id-2 div.sk-parallel-item::before {content: \"\";position: absolute;border-left: 1px solid gray;box-sizing: border-box;top: 0;bottom: 0;left: 50%;z-index: -1;}#sk-container-id-2 div.sk-parallel-item {display: flex;flex-direction: column;z-index: 1;position: relative;background-color: white;}#sk-container-id-2 div.sk-parallel-item:first-child::after {align-self: flex-end;width: 50%;}#sk-container-id-2 div.sk-parallel-item:last-child::after {align-self: flex-start;width: 50%;}#sk-container-id-2 div.sk-parallel-item:only-child::after {width: 0;}#sk-container-id-2 div.sk-dashed-wrapped {border: 1px dashed gray;margin: 0 0.4em 0.5em 0.4em;box-sizing: border-box;padding-bottom: 0.4em;background-color: white;}#sk-container-id-2 div.sk-label label {font-family: monospace;font-weight: bold;display: inline-block;line-height: 1.2em;}#sk-container-id-2 div.sk-label-container {text-align: center;}#sk-container-id-2 div.sk-container {/* jupyter's `normalize.less` sets `[hidden] { display: none; }` but bootstrap.min.css set `[hidden] { display: none !important; }` so we also need the `!important` here to be able to override the default hidden behavior on the sphinx rendered scikit-learn.org. See: https://github.com/scikit-learn/scikit-learn/issues/21755 */display: inline-block !important;position: relative;}#sk-container-id-2 div.sk-text-repr-fallback {display: none;}</style><div id=\"sk-container-id-2\" class=\"sk-top-container\"><div class=\"sk-text-repr-fallback\"><pre>RandomForestClassifier()</pre><b>In a Jupyter environment, please rerun this cell to show the HTML representation or trust the notebook. <br />On GitHub, the HTML representation is unable to render, please try loading this page with nbviewer.org.</b></div><div class=\"sk-container\" hidden><div class=\"sk-item\"><div class=\"sk-estimator sk-toggleable\"><input class=\"sk-toggleable__control sk-hidden--visually\" id=\"sk-estimator-id-2\" type=\"checkbox\" checked><label for=\"sk-estimator-id-2\" class=\"sk-toggleable__label sk-toggleable__label-arrow\">RandomForestClassifier</label><div class=\"sk-toggleable__content\"><pre>RandomForestClassifier()</pre></div></div></div></div></div>"
     },
     "execution_count": 40,
     "metadata": {},
     "output_type": "execute_result"
    }
   ],
   "source": [
    "rf.fit(x_train, y_train)"
   ],
   "metadata": {
    "collapsed": false
   }
  },
  {
   "cell_type": "code",
   "execution_count": 41,
   "outputs": [],
   "source": [
    "rf_pred = rf.predict(x_test)"
   ],
   "metadata": {
    "collapsed": false
   }
  },
  {
   "cell_type": "code",
   "execution_count": 42,
   "outputs": [],
   "source": [
    "rf_acc = rf.score(x_test, y_test)"
   ],
   "metadata": {
    "collapsed": false
   }
  },
  {
   "cell_type": "code",
   "execution_count": 43,
   "outputs": [],
   "source": [
    "model_accuracy['Random Forest'] = rf_acc"
   ],
   "metadata": {
    "collapsed": false
   }
  },
  {
   "cell_type": "code",
   "execution_count": 44,
   "outputs": [
    {
     "data": {
      "text/plain": "0.5510086455331412"
     },
     "execution_count": 44,
     "metadata": {},
     "output_type": "execute_result"
    }
   ],
   "source": [
    "rf_acc"
   ],
   "metadata": {
    "collapsed": false
   }
  },
  {
   "cell_type": "code",
   "execution_count": 45,
   "outputs": [],
   "source": [
    "cr = classification_report(y_test, rf_pred, target_names=le.classes_, zero_division=0)"
   ],
   "metadata": {
    "collapsed": false
   }
  },
  {
   "cell_type": "code",
   "execution_count": 46,
   "outputs": [
    {
     "name": "stdout",
     "output_type": "stream",
     "text": [
      "Classification Report For Random Forest:\n",
      "              precision    recall  f1-score   support\n",
      "\n",
      "        ENFJ       0.00      0.00      0.00        41\n",
      "        ENFP       0.68      0.36      0.47       125\n",
      "        ENTJ       0.50      0.02      0.04        44\n",
      "        ENTP       0.71      0.36      0.48       135\n",
      "        ESFJ       0.00      0.00      0.00         7\n",
      "        ESFP       0.00      0.00      0.00         8\n",
      "        ESTJ       0.00      0.00      0.00         7\n",
      "        ESTP       0.00      0.00      0.00        15\n",
      "        INFJ       0.53      0.68      0.60       288\n",
      "        INFP       0.47      0.86      0.60       370\n",
      "        INTJ       0.57      0.56      0.57       193\n",
      "        INTP       0.65      0.71      0.68       293\n",
      "        ISFJ       0.00      0.00      0.00        45\n",
      "        ISFP       0.67      0.04      0.07        53\n",
      "        ISTJ       0.67      0.09      0.16        44\n",
      "        ISTP       0.88      0.34      0.49        67\n",
      "\n",
      "    accuracy                           0.55      1735\n",
      "   macro avg       0.40      0.25      0.26      1735\n",
      "weighted avg       0.55      0.55      0.50      1735\n",
      "\n"
     ]
    }
   ],
   "source": [
    "print(f\"Classification Report For Random Forest:\\n{cr}\")"
   ],
   "metadata": {
    "collapsed": false
   }
  },
  {
   "cell_type": "markdown",
   "source": [
    "### XGBoost"
   ],
   "metadata": {
    "collapsed": false
   }
  },
  {
   "cell_type": "code",
   "execution_count": 48,
   "outputs": [],
   "source": [
    "xgb = XGBClassifier()"
   ],
   "metadata": {
    "collapsed": false
   }
  },
  {
   "cell_type": "code",
   "execution_count": 49,
   "outputs": [
    {
     "data": {
      "text/plain": "XGBClassifier(base_score=None, booster=None, callbacks=None,\n              colsample_bylevel=None, colsample_bynode=None,\n              colsample_bytree=None, early_stopping_rounds=None,\n              enable_categorical=False, eval_metric=None, feature_types=None,\n              gamma=None, gpu_id=None, grow_policy=None, importance_type=None,\n              interaction_constraints=None, learning_rate=None, max_bin=None,\n              max_cat_threshold=None, max_cat_to_onehot=None,\n              max_delta_step=None, max_depth=None, max_leaves=None,\n              min_child_weight=None, missing=nan, monotone_constraints=None,\n              n_estimators=100, n_jobs=None, num_parallel_tree=None,\n              objective='multi:softprob', predictor=None, ...)",
      "text/html": "<style>#sk-container-id-3 {color: black;background-color: white;}#sk-container-id-3 pre{padding: 0;}#sk-container-id-3 div.sk-toggleable {background-color: white;}#sk-container-id-3 label.sk-toggleable__label {cursor: pointer;display: block;width: 100%;margin-bottom: 0;padding: 0.3em;box-sizing: border-box;text-align: center;}#sk-container-id-3 label.sk-toggleable__label-arrow:before {content: \"▸\";float: left;margin-right: 0.25em;color: #696969;}#sk-container-id-3 label.sk-toggleable__label-arrow:hover:before {color: black;}#sk-container-id-3 div.sk-estimator:hover label.sk-toggleable__label-arrow:before {color: black;}#sk-container-id-3 div.sk-toggleable__content {max-height: 0;max-width: 0;overflow: hidden;text-align: left;background-color: #f0f8ff;}#sk-container-id-3 div.sk-toggleable__content pre {margin: 0.2em;color: black;border-radius: 0.25em;background-color: #f0f8ff;}#sk-container-id-3 input.sk-toggleable__control:checked~div.sk-toggleable__content {max-height: 200px;max-width: 100%;overflow: auto;}#sk-container-id-3 input.sk-toggleable__control:checked~label.sk-toggleable__label-arrow:before {content: \"▾\";}#sk-container-id-3 div.sk-estimator input.sk-toggleable__control:checked~label.sk-toggleable__label {background-color: #d4ebff;}#sk-container-id-3 div.sk-label input.sk-toggleable__control:checked~label.sk-toggleable__label {background-color: #d4ebff;}#sk-container-id-3 input.sk-hidden--visually {border: 0;clip: rect(1px 1px 1px 1px);clip: rect(1px, 1px, 1px, 1px);height: 1px;margin: -1px;overflow: hidden;padding: 0;position: absolute;width: 1px;}#sk-container-id-3 div.sk-estimator {font-family: monospace;background-color: #f0f8ff;border: 1px dotted black;border-radius: 0.25em;box-sizing: border-box;margin-bottom: 0.5em;}#sk-container-id-3 div.sk-estimator:hover {background-color: #d4ebff;}#sk-container-id-3 div.sk-parallel-item::after {content: \"\";width: 100%;border-bottom: 1px solid gray;flex-grow: 1;}#sk-container-id-3 div.sk-label:hover label.sk-toggleable__label {background-color: #d4ebff;}#sk-container-id-3 div.sk-serial::before {content: \"\";position: absolute;border-left: 1px solid gray;box-sizing: border-box;top: 0;bottom: 0;left: 50%;z-index: 0;}#sk-container-id-3 div.sk-serial {display: flex;flex-direction: column;align-items: center;background-color: white;padding-right: 0.2em;padding-left: 0.2em;position: relative;}#sk-container-id-3 div.sk-item {position: relative;z-index: 1;}#sk-container-id-3 div.sk-parallel {display: flex;align-items: stretch;justify-content: center;background-color: white;position: relative;}#sk-container-id-3 div.sk-item::before, #sk-container-id-3 div.sk-parallel-item::before {content: \"\";position: absolute;border-left: 1px solid gray;box-sizing: border-box;top: 0;bottom: 0;left: 50%;z-index: -1;}#sk-container-id-3 div.sk-parallel-item {display: flex;flex-direction: column;z-index: 1;position: relative;background-color: white;}#sk-container-id-3 div.sk-parallel-item:first-child::after {align-self: flex-end;width: 50%;}#sk-container-id-3 div.sk-parallel-item:last-child::after {align-self: flex-start;width: 50%;}#sk-container-id-3 div.sk-parallel-item:only-child::after {width: 0;}#sk-container-id-3 div.sk-dashed-wrapped {border: 1px dashed gray;margin: 0 0.4em 0.5em 0.4em;box-sizing: border-box;padding-bottom: 0.4em;background-color: white;}#sk-container-id-3 div.sk-label label {font-family: monospace;font-weight: bold;display: inline-block;line-height: 1.2em;}#sk-container-id-3 div.sk-label-container {text-align: center;}#sk-container-id-3 div.sk-container {/* jupyter's `normalize.less` sets `[hidden] { display: none; }` but bootstrap.min.css set `[hidden] { display: none !important; }` so we also need the `!important` here to be able to override the default hidden behavior on the sphinx rendered scikit-learn.org. See: https://github.com/scikit-learn/scikit-learn/issues/21755 */display: inline-block !important;position: relative;}#sk-container-id-3 div.sk-text-repr-fallback {display: none;}</style><div id=\"sk-container-id-3\" class=\"sk-top-container\"><div class=\"sk-text-repr-fallback\"><pre>XGBClassifier(base_score=None, booster=None, callbacks=None,\n              colsample_bylevel=None, colsample_bynode=None,\n              colsample_bytree=None, early_stopping_rounds=None,\n              enable_categorical=False, eval_metric=None, feature_types=None,\n              gamma=None, gpu_id=None, grow_policy=None, importance_type=None,\n              interaction_constraints=None, learning_rate=None, max_bin=None,\n              max_cat_threshold=None, max_cat_to_onehot=None,\n              max_delta_step=None, max_depth=None, max_leaves=None,\n              min_child_weight=None, missing=nan, monotone_constraints=None,\n              n_estimators=100, n_jobs=None, num_parallel_tree=None,\n              objective=&#x27;multi:softprob&#x27;, predictor=None, ...)</pre><b>In a Jupyter environment, please rerun this cell to show the HTML representation or trust the notebook. <br />On GitHub, the HTML representation is unable to render, please try loading this page with nbviewer.org.</b></div><div class=\"sk-container\" hidden><div class=\"sk-item\"><div class=\"sk-estimator sk-toggleable\"><input class=\"sk-toggleable__control sk-hidden--visually\" id=\"sk-estimator-id-3\" type=\"checkbox\" checked><label for=\"sk-estimator-id-3\" class=\"sk-toggleable__label sk-toggleable__label-arrow\">XGBClassifier</label><div class=\"sk-toggleable__content\"><pre>XGBClassifier(base_score=None, booster=None, callbacks=None,\n              colsample_bylevel=None, colsample_bynode=None,\n              colsample_bytree=None, early_stopping_rounds=None,\n              enable_categorical=False, eval_metric=None, feature_types=None,\n              gamma=None, gpu_id=None, grow_policy=None, importance_type=None,\n              interaction_constraints=None, learning_rate=None, max_bin=None,\n              max_cat_threshold=None, max_cat_to_onehot=None,\n              max_delta_step=None, max_depth=None, max_leaves=None,\n              min_child_weight=None, missing=nan, monotone_constraints=None,\n              n_estimators=100, n_jobs=None, num_parallel_tree=None,\n              objective=&#x27;multi:softprob&#x27;, predictor=None, ...)</pre></div></div></div></div></div>"
     },
     "execution_count": 49,
     "metadata": {},
     "output_type": "execute_result"
    }
   ],
   "source": [
    "xgb.fit(X_train,y_train)"
   ],
   "metadata": {
    "collapsed": false
   }
  },
  {
   "cell_type": "code",
   "execution_count": 50,
   "outputs": [
    {
     "name": "stdout",
     "output_type": "stream",
     "text": [
      "              precision    recall  f1-score   support\n",
      "\n",
      "           0       0.50      0.20      0.28        41\n",
      "           1       0.65      0.58      0.61       125\n",
      "           2       0.54      0.43      0.48        44\n",
      "           3       0.60      0.61      0.61       135\n",
      "           4       0.33      0.14      0.20         7\n",
      "           5       0.00      0.00      0.00         8\n",
      "           6       0.60      0.43      0.50         7\n",
      "           7       0.71      0.33      0.45        15\n",
      "           8       0.64      0.64      0.64       288\n",
      "           9       0.66      0.81      0.73       370\n",
      "          10       0.62      0.68      0.65       193\n",
      "          11       0.72      0.76      0.74       293\n",
      "          12       0.78      0.47      0.58        45\n",
      "          13       0.69      0.51      0.59        53\n",
      "          14       0.72      0.52      0.61        44\n",
      "          15       0.69      0.57      0.62        67\n",
      "\n",
      "    accuracy                           0.66      1735\n",
      "   macro avg       0.59      0.48      0.52      1735\n",
      "weighted avg       0.65      0.66      0.65      1735\n",
      "\n"
     ]
    }
   ],
   "source": [
    "print(classification_report(y_test, xgb.predict(X_test), zero_division=0))"
   ],
   "metadata": {
    "collapsed": false
   }
  },
  {
   "cell_type": "code",
   "execution_count": 51,
   "outputs": [],
   "source": [
    "xgb_acc = xgb.score(X_test, y_test)\n",
    "model_accuracy['XGBoost'] = xgb_acc"
   ],
   "metadata": {
    "collapsed": false
   }
  },
  {
   "cell_type": "markdown",
   "source": [
    "### Naive Bayes"
   ],
   "metadata": {
    "collapsed": false
   }
  },
  {
   "cell_type": "code",
   "execution_count": 53,
   "outputs": [],
   "source": [
    "nb = MultinomialNB()"
   ],
   "metadata": {
    "collapsed": false
   }
  },
  {
   "cell_type": "code",
   "execution_count": 54,
   "outputs": [
    {
     "data": {
      "text/plain": "MultinomialNB()",
      "text/html": "<style>#sk-container-id-4 {color: black;background-color: white;}#sk-container-id-4 pre{padding: 0;}#sk-container-id-4 div.sk-toggleable {background-color: white;}#sk-container-id-4 label.sk-toggleable__label {cursor: pointer;display: block;width: 100%;margin-bottom: 0;padding: 0.3em;box-sizing: border-box;text-align: center;}#sk-container-id-4 label.sk-toggleable__label-arrow:before {content: \"▸\";float: left;margin-right: 0.25em;color: #696969;}#sk-container-id-4 label.sk-toggleable__label-arrow:hover:before {color: black;}#sk-container-id-4 div.sk-estimator:hover label.sk-toggleable__label-arrow:before {color: black;}#sk-container-id-4 div.sk-toggleable__content {max-height: 0;max-width: 0;overflow: hidden;text-align: left;background-color: #f0f8ff;}#sk-container-id-4 div.sk-toggleable__content pre {margin: 0.2em;color: black;border-radius: 0.25em;background-color: #f0f8ff;}#sk-container-id-4 input.sk-toggleable__control:checked~div.sk-toggleable__content {max-height: 200px;max-width: 100%;overflow: auto;}#sk-container-id-4 input.sk-toggleable__control:checked~label.sk-toggleable__label-arrow:before {content: \"▾\";}#sk-container-id-4 div.sk-estimator input.sk-toggleable__control:checked~label.sk-toggleable__label {background-color: #d4ebff;}#sk-container-id-4 div.sk-label input.sk-toggleable__control:checked~label.sk-toggleable__label {background-color: #d4ebff;}#sk-container-id-4 input.sk-hidden--visually {border: 0;clip: rect(1px 1px 1px 1px);clip: rect(1px, 1px, 1px, 1px);height: 1px;margin: -1px;overflow: hidden;padding: 0;position: absolute;width: 1px;}#sk-container-id-4 div.sk-estimator {font-family: monospace;background-color: #f0f8ff;border: 1px dotted black;border-radius: 0.25em;box-sizing: border-box;margin-bottom: 0.5em;}#sk-container-id-4 div.sk-estimator:hover {background-color: #d4ebff;}#sk-container-id-4 div.sk-parallel-item::after {content: \"\";width: 100%;border-bottom: 1px solid gray;flex-grow: 1;}#sk-container-id-4 div.sk-label:hover label.sk-toggleable__label {background-color: #d4ebff;}#sk-container-id-4 div.sk-serial::before {content: \"\";position: absolute;border-left: 1px solid gray;box-sizing: border-box;top: 0;bottom: 0;left: 50%;z-index: 0;}#sk-container-id-4 div.sk-serial {display: flex;flex-direction: column;align-items: center;background-color: white;padding-right: 0.2em;padding-left: 0.2em;position: relative;}#sk-container-id-4 div.sk-item {position: relative;z-index: 1;}#sk-container-id-4 div.sk-parallel {display: flex;align-items: stretch;justify-content: center;background-color: white;position: relative;}#sk-container-id-4 div.sk-item::before, #sk-container-id-4 div.sk-parallel-item::before {content: \"\";position: absolute;border-left: 1px solid gray;box-sizing: border-box;top: 0;bottom: 0;left: 50%;z-index: -1;}#sk-container-id-4 div.sk-parallel-item {display: flex;flex-direction: column;z-index: 1;position: relative;background-color: white;}#sk-container-id-4 div.sk-parallel-item:first-child::after {align-self: flex-end;width: 50%;}#sk-container-id-4 div.sk-parallel-item:last-child::after {align-self: flex-start;width: 50%;}#sk-container-id-4 div.sk-parallel-item:only-child::after {width: 0;}#sk-container-id-4 div.sk-dashed-wrapped {border: 1px dashed gray;margin: 0 0.4em 0.5em 0.4em;box-sizing: border-box;padding-bottom: 0.4em;background-color: white;}#sk-container-id-4 div.sk-label label {font-family: monospace;font-weight: bold;display: inline-block;line-height: 1.2em;}#sk-container-id-4 div.sk-label-container {text-align: center;}#sk-container-id-4 div.sk-container {/* jupyter's `normalize.less` sets `[hidden] { display: none; }` but bootstrap.min.css set `[hidden] { display: none !important; }` so we also need the `!important` here to be able to override the default hidden behavior on the sphinx rendered scikit-learn.org. See: https://github.com/scikit-learn/scikit-learn/issues/21755 */display: inline-block !important;position: relative;}#sk-container-id-4 div.sk-text-repr-fallback {display: none;}</style><div id=\"sk-container-id-4\" class=\"sk-top-container\"><div class=\"sk-text-repr-fallback\"><pre>MultinomialNB()</pre><b>In a Jupyter environment, please rerun this cell to show the HTML representation or trust the notebook. <br />On GitHub, the HTML representation is unable to render, please try loading this page with nbviewer.org.</b></div><div class=\"sk-container\" hidden><div class=\"sk-item\"><div class=\"sk-estimator sk-toggleable\"><input class=\"sk-toggleable__control sk-hidden--visually\" id=\"sk-estimator-id-4\" type=\"checkbox\" checked><label for=\"sk-estimator-id-4\" class=\"sk-toggleable__label sk-toggleable__label-arrow\">MultinomialNB</label><div class=\"sk-toggleable__content\"><pre>MultinomialNB()</pre></div></div></div></div></div>"
     },
     "execution_count": 54,
     "metadata": {},
     "output_type": "execute_result"
    }
   ],
   "source": [
    "nb.fit(x_train, y_train)"
   ],
   "metadata": {
    "collapsed": false
   }
  },
  {
   "cell_type": "code",
   "execution_count": 55,
   "outputs": [],
   "source": [
    "nb_pred = nb.predict(x_test)"
   ],
   "metadata": {
    "collapsed": false
   }
  },
  {
   "cell_type": "code",
   "execution_count": 56,
   "outputs": [],
   "source": [
    "nb_acc = nb.score(x_test, y_test)"
   ],
   "metadata": {
    "collapsed": false
   }
  },
  {
   "cell_type": "code",
   "execution_count": 57,
   "outputs": [],
   "source": [
    "model_accuracy['Naive Bayes'] = nb_acc"
   ],
   "metadata": {
    "collapsed": false
   }
  },
  {
   "cell_type": "markdown",
   "source": [
    "### SVM"
   ],
   "metadata": {
    "collapsed": false
   }
  },
  {
   "cell_type": "code",
   "execution_count": 58,
   "outputs": [],
   "source": [
    "from sklearn.svm import SVC"
   ],
   "metadata": {
    "collapsed": false
   }
  },
  {
   "cell_type": "code",
   "execution_count": 59,
   "outputs": [],
   "source": [
    "svm = SVC()"
   ],
   "metadata": {
    "collapsed": false
   }
  },
  {
   "cell_type": "code",
   "execution_count": 60,
   "outputs": [
    {
     "data": {
      "text/plain": "SVC()",
      "text/html": "<style>#sk-container-id-5 {color: black;background-color: white;}#sk-container-id-5 pre{padding: 0;}#sk-container-id-5 div.sk-toggleable {background-color: white;}#sk-container-id-5 label.sk-toggleable__label {cursor: pointer;display: block;width: 100%;margin-bottom: 0;padding: 0.3em;box-sizing: border-box;text-align: center;}#sk-container-id-5 label.sk-toggleable__label-arrow:before {content: \"▸\";float: left;margin-right: 0.25em;color: #696969;}#sk-container-id-5 label.sk-toggleable__label-arrow:hover:before {color: black;}#sk-container-id-5 div.sk-estimator:hover label.sk-toggleable__label-arrow:before {color: black;}#sk-container-id-5 div.sk-toggleable__content {max-height: 0;max-width: 0;overflow: hidden;text-align: left;background-color: #f0f8ff;}#sk-container-id-5 div.sk-toggleable__content pre {margin: 0.2em;color: black;border-radius: 0.25em;background-color: #f0f8ff;}#sk-container-id-5 input.sk-toggleable__control:checked~div.sk-toggleable__content {max-height: 200px;max-width: 100%;overflow: auto;}#sk-container-id-5 input.sk-toggleable__control:checked~label.sk-toggleable__label-arrow:before {content: \"▾\";}#sk-container-id-5 div.sk-estimator input.sk-toggleable__control:checked~label.sk-toggleable__label {background-color: #d4ebff;}#sk-container-id-5 div.sk-label input.sk-toggleable__control:checked~label.sk-toggleable__label {background-color: #d4ebff;}#sk-container-id-5 input.sk-hidden--visually {border: 0;clip: rect(1px 1px 1px 1px);clip: rect(1px, 1px, 1px, 1px);height: 1px;margin: -1px;overflow: hidden;padding: 0;position: absolute;width: 1px;}#sk-container-id-5 div.sk-estimator {font-family: monospace;background-color: #f0f8ff;border: 1px dotted black;border-radius: 0.25em;box-sizing: border-box;margin-bottom: 0.5em;}#sk-container-id-5 div.sk-estimator:hover {background-color: #d4ebff;}#sk-container-id-5 div.sk-parallel-item::after {content: \"\";width: 100%;border-bottom: 1px solid gray;flex-grow: 1;}#sk-container-id-5 div.sk-label:hover label.sk-toggleable__label {background-color: #d4ebff;}#sk-container-id-5 div.sk-serial::before {content: \"\";position: absolute;border-left: 1px solid gray;box-sizing: border-box;top: 0;bottom: 0;left: 50%;z-index: 0;}#sk-container-id-5 div.sk-serial {display: flex;flex-direction: column;align-items: center;background-color: white;padding-right: 0.2em;padding-left: 0.2em;position: relative;}#sk-container-id-5 div.sk-item {position: relative;z-index: 1;}#sk-container-id-5 div.sk-parallel {display: flex;align-items: stretch;justify-content: center;background-color: white;position: relative;}#sk-container-id-5 div.sk-item::before, #sk-container-id-5 div.sk-parallel-item::before {content: \"\";position: absolute;border-left: 1px solid gray;box-sizing: border-box;top: 0;bottom: 0;left: 50%;z-index: -1;}#sk-container-id-5 div.sk-parallel-item {display: flex;flex-direction: column;z-index: 1;position: relative;background-color: white;}#sk-container-id-5 div.sk-parallel-item:first-child::after {align-self: flex-end;width: 50%;}#sk-container-id-5 div.sk-parallel-item:last-child::after {align-self: flex-start;width: 50%;}#sk-container-id-5 div.sk-parallel-item:only-child::after {width: 0;}#sk-container-id-5 div.sk-dashed-wrapped {border: 1px dashed gray;margin: 0 0.4em 0.5em 0.4em;box-sizing: border-box;padding-bottom: 0.4em;background-color: white;}#sk-container-id-5 div.sk-label label {font-family: monospace;font-weight: bold;display: inline-block;line-height: 1.2em;}#sk-container-id-5 div.sk-label-container {text-align: center;}#sk-container-id-5 div.sk-container {/* jupyter's `normalize.less` sets `[hidden] { display: none; }` but bootstrap.min.css set `[hidden] { display: none !important; }` so we also need the `!important` here to be able to override the default hidden behavior on the sphinx rendered scikit-learn.org. See: https://github.com/scikit-learn/scikit-learn/issues/21755 */display: inline-block !important;position: relative;}#sk-container-id-5 div.sk-text-repr-fallback {display: none;}</style><div id=\"sk-container-id-5\" class=\"sk-top-container\"><div class=\"sk-text-repr-fallback\"><pre>SVC()</pre><b>In a Jupyter environment, please rerun this cell to show the HTML representation or trust the notebook. <br />On GitHub, the HTML representation is unable to render, please try loading this page with nbviewer.org.</b></div><div class=\"sk-container\" hidden><div class=\"sk-item\"><div class=\"sk-estimator sk-toggleable\"><input class=\"sk-toggleable__control sk-hidden--visually\" id=\"sk-estimator-id-5\" type=\"checkbox\" checked><label for=\"sk-estimator-id-5\" class=\"sk-toggleable__label sk-toggleable__label-arrow\">SVC</label><div class=\"sk-toggleable__content\"><pre>SVC()</pre></div></div></div></div></div>"
     },
     "execution_count": 60,
     "metadata": {},
     "output_type": "execute_result"
    }
   ],
   "source": [
    "svm.fit(x_train, y_train)"
   ],
   "metadata": {
    "collapsed": false
   }
  },
  {
   "cell_type": "code",
   "execution_count": 61,
   "outputs": [],
   "source": [
    "svm_pred = svm.predict(x_test)"
   ],
   "metadata": {
    "collapsed": false
   }
  },
  {
   "cell_type": "code",
   "execution_count": 62,
   "outputs": [],
   "source": [
    "svm_acc = svm.score(x_test, y_test)"
   ],
   "metadata": {
    "collapsed": false
   }
  },
  {
   "cell_type": "code",
   "execution_count": 63,
   "outputs": [],
   "source": [
    "model_accuracy['SVM'] = svm_acc"
   ],
   "metadata": {
    "collapsed": false
   }
  },
  {
   "cell_type": "code",
   "execution_count": 64,
   "outputs": [
    {
     "data": {
      "text/plain": "0.652449567723343"
     },
     "execution_count": 64,
     "metadata": {},
     "output_type": "execute_result"
    }
   ],
   "source": [
    "svm_acc"
   ],
   "metadata": {
    "collapsed": false
   }
  },
  {
   "cell_type": "markdown",
   "source": [
    "### CatBoost"
   ],
   "metadata": {
    "collapsed": false
   }
  },
  {
   "cell_type": "code",
   "execution_count": 71,
   "outputs": [],
   "source": [
    "cb = CatBoostClassifier(task_type='GPU')"
   ],
   "metadata": {
    "collapsed": false
   }
  },
  {
   "cell_type": "code",
   "execution_count": 72,
   "outputs": [
    {
     "name": "stdout",
     "output_type": "stream",
     "text": [
      "Learning rate set to 0.096365\n",
      "0:\tlearn: 2.4250695\ttotal: 273ms\tremaining: 4m 32s\n",
      "1:\tlearn: 2.2620977\ttotal: 498ms\tremaining: 4m 8s\n",
      "2:\tlearn: 2.1428622\ttotal: 731ms\tremaining: 4m 3s\n",
      "3:\tlearn: 2.0556491\ttotal: 960ms\tremaining: 3m 58s\n",
      "4:\tlearn: 1.9809427\ttotal: 1.19s\tremaining: 3m 56s\n",
      "5:\tlearn: 1.9215079\ttotal: 1.42s\tremaining: 3m 54s\n",
      "6:\tlearn: 1.8562860\ttotal: 1.65s\tremaining: 3m 53s\n",
      "7:\tlearn: 1.8130775\ttotal: 1.87s\tremaining: 3m 52s\n",
      "8:\tlearn: 1.7685299\ttotal: 2.12s\tremaining: 3m 53s\n",
      "9:\tlearn: 1.7221564\ttotal: 2.36s\tremaining: 3m 54s\n",
      "10:\tlearn: 1.6833019\ttotal: 2.6s\tremaining: 3m 54s\n",
      "11:\tlearn: 1.6453921\ttotal: 2.84s\tremaining: 3m 53s\n",
      "12:\tlearn: 1.6148105\ttotal: 3.06s\tremaining: 3m 52s\n",
      "13:\tlearn: 1.5862074\ttotal: 3.28s\tremaining: 3m 50s\n",
      "14:\tlearn: 1.5535519\ttotal: 3.48s\tremaining: 3m 48s\n",
      "15:\tlearn: 1.5305333\ttotal: 3.68s\tremaining: 3m 46s\n",
      "16:\tlearn: 1.5115507\ttotal: 3.88s\tremaining: 3m 44s\n",
      "17:\tlearn: 1.4848782\ttotal: 4.13s\tremaining: 3m 45s\n",
      "18:\tlearn: 1.4623911\ttotal: 4.34s\tremaining: 3m 44s\n",
      "19:\tlearn: 1.4414583\ttotal: 4.58s\tremaining: 3m 44s\n",
      "20:\tlearn: 1.4223267\ttotal: 4.79s\tremaining: 3m 43s\n",
      "21:\tlearn: 1.4069491\ttotal: 5.01s\tremaining: 3m 42s\n",
      "22:\tlearn: 1.3927391\ttotal: 5.21s\tremaining: 3m 41s\n",
      "23:\tlearn: 1.3812977\ttotal: 5.41s\tremaining: 3m 40s\n",
      "24:\tlearn: 1.3629659\ttotal: 5.65s\tremaining: 3m 40s\n",
      "25:\tlearn: 1.3449113\ttotal: 5.87s\tremaining: 3m 39s\n",
      "26:\tlearn: 1.3313745\ttotal: 6.08s\tremaining: 3m 39s\n",
      "27:\tlearn: 1.3198093\ttotal: 6.3s\tremaining: 3m 38s\n",
      "28:\tlearn: 1.3089234\ttotal: 6.52s\tremaining: 3m 38s\n",
      "29:\tlearn: 1.2981079\ttotal: 6.74s\tremaining: 3m 37s\n",
      "30:\tlearn: 1.2844010\ttotal: 6.93s\tremaining: 3m 36s\n",
      "31:\tlearn: 1.2757034\ttotal: 7.15s\tremaining: 3m 36s\n",
      "32:\tlearn: 1.2665201\ttotal: 7.36s\tremaining: 3m 35s\n",
      "33:\tlearn: 1.2601653\ttotal: 7.54s\tremaining: 3m 34s\n",
      "34:\tlearn: 1.2529310\ttotal: 7.73s\tremaining: 3m 33s\n",
      "35:\tlearn: 1.2456854\ttotal: 7.91s\tremaining: 3m 31s\n",
      "36:\tlearn: 1.2386205\ttotal: 8.11s\tremaining: 3m 31s\n",
      "37:\tlearn: 1.2320045\ttotal: 8.31s\tremaining: 3m 30s\n",
      "38:\tlearn: 1.2273343\ttotal: 8.51s\tremaining: 3m 29s\n",
      "39:\tlearn: 1.2185118\ttotal: 8.72s\tremaining: 3m 29s\n",
      "40:\tlearn: 1.2099410\ttotal: 8.94s\tremaining: 3m 29s\n",
      "41:\tlearn: 1.2028123\ttotal: 9.14s\tremaining: 3m 28s\n",
      "42:\tlearn: 1.1972582\ttotal: 9.36s\tremaining: 3m 28s\n",
      "43:\tlearn: 1.1893249\ttotal: 9.57s\tremaining: 3m 28s\n",
      "44:\tlearn: 1.1832102\ttotal: 9.81s\tremaining: 3m 28s\n",
      "45:\tlearn: 1.1736600\ttotal: 10s\tremaining: 3m 28s\n",
      "46:\tlearn: 1.1672178\ttotal: 10.2s\tremaining: 3m 27s\n",
      "47:\tlearn: 1.1617418\ttotal: 10.4s\tremaining: 3m 26s\n",
      "48:\tlearn: 1.1548542\ttotal: 10.7s\tremaining: 3m 26s\n",
      "49:\tlearn: 1.1507875\ttotal: 10.8s\tremaining: 3m 26s\n",
      "50:\tlearn: 1.1456950\ttotal: 11s\tremaining: 3m 25s\n",
      "51:\tlearn: 1.1410691\ttotal: 11.3s\tremaining: 3m 25s\n",
      "52:\tlearn: 1.1344042\ttotal: 11.5s\tremaining: 3m 25s\n",
      "53:\tlearn: 1.1296083\ttotal: 11.7s\tremaining: 3m 25s\n",
      "54:\tlearn: 1.1255639\ttotal: 11.9s\tremaining: 3m 24s\n",
      "55:\tlearn: 1.1214282\ttotal: 12.1s\tremaining: 3m 24s\n",
      "56:\tlearn: 1.1178221\ttotal: 12.3s\tremaining: 3m 23s\n",
      "57:\tlearn: 1.1142808\ttotal: 12.5s\tremaining: 3m 22s\n",
      "58:\tlearn: 1.1108959\ttotal: 12.6s\tremaining: 3m 21s\n",
      "59:\tlearn: 1.1052926\ttotal: 12.9s\tremaining: 3m 21s\n",
      "60:\tlearn: 1.0998506\ttotal: 13.1s\tremaining: 3m 21s\n",
      "61:\tlearn: 1.0972912\ttotal: 13.3s\tremaining: 3m 20s\n",
      "62:\tlearn: 1.0952780\ttotal: 13.4s\tremaining: 3m 19s\n",
      "63:\tlearn: 1.0918186\ttotal: 13.6s\tremaining: 3m 18s\n",
      "64:\tlearn: 1.0895348\ttotal: 13.8s\tremaining: 3m 17s\n",
      "65:\tlearn: 1.0847410\ttotal: 14s\tremaining: 3m 17s\n",
      "66:\tlearn: 1.0822279\ttotal: 14.2s\tremaining: 3m 17s\n",
      "67:\tlearn: 1.0787262\ttotal: 14.3s\tremaining: 3m 16s\n",
      "68:\tlearn: 1.0769146\ttotal: 14.5s\tremaining: 3m 15s\n",
      "69:\tlearn: 1.0744986\ttotal: 14.7s\tremaining: 3m 15s\n",
      "70:\tlearn: 1.0728099\ttotal: 14.9s\tremaining: 3m 14s\n",
      "71:\tlearn: 1.0702565\ttotal: 15.1s\tremaining: 3m 14s\n",
      "72:\tlearn: 1.0661534\ttotal: 15.3s\tremaining: 3m 13s\n",
      "73:\tlearn: 1.0642836\ttotal: 15.4s\tremaining: 3m 13s\n",
      "74:\tlearn: 1.0616281\ttotal: 15.6s\tremaining: 3m 12s\n",
      "75:\tlearn: 1.0588125\ttotal: 15.8s\tremaining: 3m 12s\n",
      "76:\tlearn: 1.0567760\ttotal: 16s\tremaining: 3m 12s\n",
      "77:\tlearn: 1.0526585\ttotal: 16.3s\tremaining: 3m 12s\n",
      "78:\tlearn: 1.0478633\ttotal: 16.5s\tremaining: 3m 12s\n",
      "79:\tlearn: 1.0466345\ttotal: 16.6s\tremaining: 3m 11s\n",
      "80:\tlearn: 1.0436680\ttotal: 16.8s\tremaining: 3m 10s\n",
      "81:\tlearn: 1.0404333\ttotal: 17s\tremaining: 3m 10s\n",
      "82:\tlearn: 1.0382943\ttotal: 17.2s\tremaining: 3m 10s\n",
      "83:\tlearn: 1.0360312\ttotal: 17.4s\tremaining: 3m 9s\n",
      "84:\tlearn: 1.0313726\ttotal: 17.6s\tremaining: 3m 9s\n",
      "85:\tlearn: 1.0295300\ttotal: 17.8s\tremaining: 3m 8s\n",
      "86:\tlearn: 1.0277964\ttotal: 18s\tremaining: 3m 8s\n",
      "87:\tlearn: 1.0249517\ttotal: 18.2s\tremaining: 3m 8s\n",
      "88:\tlearn: 1.0222961\ttotal: 18.4s\tremaining: 3m 8s\n",
      "89:\tlearn: 1.0202828\ttotal: 18.5s\tremaining: 3m 7s\n",
      "90:\tlearn: 1.0173281\ttotal: 18.7s\tremaining: 3m 7s\n",
      "91:\tlearn: 1.0149494\ttotal: 18.9s\tremaining: 3m 6s\n",
      "92:\tlearn: 1.0123860\ttotal: 19.1s\tremaining: 3m 6s\n",
      "93:\tlearn: 1.0108413\ttotal: 19.3s\tremaining: 3m 6s\n",
      "94:\tlearn: 1.0080566\ttotal: 19.5s\tremaining: 3m 6s\n",
      "95:\tlearn: 1.0071044\ttotal: 19.7s\tremaining: 3m 5s\n",
      "96:\tlearn: 1.0054913\ttotal: 19.9s\tremaining: 3m 4s\n",
      "97:\tlearn: 1.0037121\ttotal: 20s\tremaining: 3m 4s\n",
      "98:\tlearn: 1.0017601\ttotal: 20.2s\tremaining: 3m 3s\n",
      "99:\tlearn: 0.9997259\ttotal: 20.4s\tremaining: 3m 3s\n",
      "100:\tlearn: 0.9989086\ttotal: 20.6s\tremaining: 3m 3s\n",
      "101:\tlearn: 0.9975668\ttotal: 20.7s\tremaining: 3m 2s\n",
      "102:\tlearn: 0.9955167\ttotal: 20.9s\tremaining: 3m 2s\n",
      "103:\tlearn: 0.9936186\ttotal: 21.1s\tremaining: 3m 1s\n",
      "104:\tlearn: 0.9919514\ttotal: 21.3s\tremaining: 3m 1s\n",
      "105:\tlearn: 0.9882592\ttotal: 21.5s\tremaining: 3m 1s\n",
      "106:\tlearn: 0.9868679\ttotal: 21.7s\tremaining: 3m\n",
      "107:\tlearn: 0.9863070\ttotal: 21.8s\tremaining: 3m\n",
      "108:\tlearn: 0.9835199\ttotal: 22s\tremaining: 2m 59s\n",
      "109:\tlearn: 0.9801416\ttotal: 22.2s\tremaining: 2m 59s\n",
      "110:\tlearn: 0.9783767\ttotal: 22.5s\tremaining: 2m 59s\n",
      "111:\tlearn: 0.9761758\ttotal: 22.7s\tremaining: 2m 59s\n",
      "112:\tlearn: 0.9749695\ttotal: 22.8s\tremaining: 2m 59s\n",
      "113:\tlearn: 0.9738978\ttotal: 23s\tremaining: 2m 58s\n",
      "114:\tlearn: 0.9710338\ttotal: 23.2s\tremaining: 2m 58s\n",
      "115:\tlearn: 0.9690307\ttotal: 23.4s\tremaining: 2m 57s\n",
      "116:\tlearn: 0.9670181\ttotal: 23.5s\tremaining: 2m 57s\n",
      "117:\tlearn: 0.9664402\ttotal: 23.7s\tremaining: 2m 57s\n",
      "118:\tlearn: 0.9662688\ttotal: 23.8s\tremaining: 2m 56s\n",
      "119:\tlearn: 0.9649351\ttotal: 24s\tremaining: 2m 55s\n",
      "120:\tlearn: 0.9632407\ttotal: 24.2s\tremaining: 2m 55s\n",
      "121:\tlearn: 0.9625009\ttotal: 24.3s\tremaining: 2m 54s\n",
      "122:\tlearn: 0.9606715\ttotal: 24.5s\tremaining: 2m 54s\n",
      "123:\tlearn: 0.9591019\ttotal: 24.7s\tremaining: 2m 54s\n",
      "124:\tlearn: 0.9586601\ttotal: 24.9s\tremaining: 2m 54s\n",
      "125:\tlearn: 0.9581036\ttotal: 25s\tremaining: 2m 53s\n",
      "126:\tlearn: 0.9565456\ttotal: 25.2s\tremaining: 2m 53s\n",
      "127:\tlearn: 0.9556280\ttotal: 25.4s\tremaining: 2m 52s\n",
      "128:\tlearn: 0.9546278\ttotal: 25.5s\tremaining: 2m 52s\n",
      "129:\tlearn: 0.9537747\ttotal: 25.7s\tremaining: 2m 51s\n",
      "130:\tlearn: 0.9518531\ttotal: 25.8s\tremaining: 2m 51s\n",
      "131:\tlearn: 0.9507121\ttotal: 26s\tremaining: 2m 50s\n",
      "132:\tlearn: 0.9496296\ttotal: 26.2s\tremaining: 2m 50s\n",
      "133:\tlearn: 0.9489752\ttotal: 26.3s\tremaining: 2m 50s\n",
      "134:\tlearn: 0.9475338\ttotal: 26.5s\tremaining: 2m 49s\n",
      "135:\tlearn: 0.9465121\ttotal: 26.6s\tremaining: 2m 49s\n",
      "136:\tlearn: 0.9464226\ttotal: 26.8s\tremaining: 2m 48s\n",
      "137:\tlearn: 0.9449820\ttotal: 26.9s\tremaining: 2m 48s\n",
      "138:\tlearn: 0.9439406\ttotal: 27.1s\tremaining: 2m 47s\n",
      "139:\tlearn: 0.9424806\ttotal: 27.3s\tremaining: 2m 47s\n",
      "140:\tlearn: 0.9417148\ttotal: 27.4s\tremaining: 2m 47s\n",
      "141:\tlearn: 0.9408573\ttotal: 27.6s\tremaining: 2m 46s\n",
      "142:\tlearn: 0.9403537\ttotal: 27.7s\tremaining: 2m 46s\n",
      "143:\tlearn: 0.9399343\ttotal: 27.9s\tremaining: 2m 45s\n",
      "144:\tlearn: 0.9393332\ttotal: 28s\tremaining: 2m 45s\n",
      "145:\tlearn: 0.9377840\ttotal: 28.2s\tremaining: 2m 44s\n",
      "146:\tlearn: 0.9367091\ttotal: 28.3s\tremaining: 2m 44s\n",
      "147:\tlearn: 0.9353857\ttotal: 28.5s\tremaining: 2m 44s\n",
      "148:\tlearn: 0.9343429\ttotal: 28.7s\tremaining: 2m 43s\n",
      "149:\tlearn: 0.9331171\ttotal: 28.8s\tremaining: 2m 43s\n",
      "150:\tlearn: 0.9325817\ttotal: 29s\tremaining: 2m 43s\n",
      "151:\tlearn: 0.9318345\ttotal: 29.2s\tremaining: 2m 42s\n",
      "152:\tlearn: 0.9313302\ttotal: 29.3s\tremaining: 2m 42s\n",
      "153:\tlearn: 0.9304749\ttotal: 29.5s\tremaining: 2m 41s\n",
      "154:\tlearn: 0.9293481\ttotal: 29.6s\tremaining: 2m 41s\n",
      "155:\tlearn: 0.9283870\ttotal: 29.8s\tremaining: 2m 41s\n",
      "156:\tlearn: 0.9273278\ttotal: 29.9s\tremaining: 2m 40s\n",
      "157:\tlearn: 0.9272758\ttotal: 30.1s\tremaining: 2m 40s\n",
      "158:\tlearn: 0.9265253\ttotal: 30.2s\tremaining: 2m 39s\n",
      "159:\tlearn: 0.9260851\ttotal: 30.4s\tremaining: 2m 39s\n",
      "160:\tlearn: 0.9253709\ttotal: 30.5s\tremaining: 2m 39s\n",
      "161:\tlearn: 0.9240966\ttotal: 30.7s\tremaining: 2m 38s\n",
      "162:\tlearn: 0.9229057\ttotal: 30.9s\tremaining: 2m 38s\n",
      "163:\tlearn: 0.9216185\ttotal: 31s\tremaining: 2m 38s\n",
      "164:\tlearn: 0.9208261\ttotal: 31.2s\tremaining: 2m 37s\n",
      "165:\tlearn: 0.9202599\ttotal: 31.4s\tremaining: 2m 37s\n",
      "166:\tlearn: 0.9187562\ttotal: 31.5s\tremaining: 2m 37s\n",
      "167:\tlearn: 0.9182358\ttotal: 31.7s\tremaining: 2m 36s\n",
      "168:\tlearn: 0.9175779\ttotal: 31.8s\tremaining: 2m 36s\n",
      "169:\tlearn: 0.9171805\ttotal: 32s\tremaining: 2m 36s\n",
      "170:\tlearn: 0.9162014\ttotal: 32.1s\tremaining: 2m 35s\n",
      "171:\tlearn: 0.9152964\ttotal: 32.3s\tremaining: 2m 35s\n",
      "172:\tlearn: 0.9145215\ttotal: 32.4s\tremaining: 2m 35s\n",
      "173:\tlearn: 0.9136505\ttotal: 32.6s\tremaining: 2m 34s\n",
      "174:\tlearn: 0.9116135\ttotal: 32.8s\tremaining: 2m 34s\n",
      "175:\tlearn: 0.9104803\ttotal: 32.9s\tremaining: 2m 34s\n",
      "176:\tlearn: 0.9091200\ttotal: 33.1s\tremaining: 2m 33s\n",
      "177:\tlearn: 0.9086052\ttotal: 33.3s\tremaining: 2m 33s\n",
      "178:\tlearn: 0.9080274\ttotal: 33.5s\tremaining: 2m 33s\n",
      "179:\tlearn: 0.9075260\ttotal: 33.6s\tremaining: 2m 33s\n",
      "180:\tlearn: 0.9069313\ttotal: 33.8s\tremaining: 2m 32s\n",
      "181:\tlearn: 0.9051115\ttotal: 33.9s\tremaining: 2m 32s\n",
      "182:\tlearn: 0.9048406\ttotal: 34.1s\tremaining: 2m 32s\n",
      "183:\tlearn: 0.9043722\ttotal: 34.2s\tremaining: 2m 31s\n",
      "184:\tlearn: 0.9042948\ttotal: 34.4s\tremaining: 2m 31s\n",
      "185:\tlearn: 0.9029569\ttotal: 34.5s\tremaining: 2m 31s\n",
      "186:\tlearn: 0.9028659\ttotal: 34.7s\tremaining: 2m 30s\n",
      "187:\tlearn: 0.9018056\ttotal: 34.9s\tremaining: 2m 30s\n",
      "188:\tlearn: 0.9013813\ttotal: 35s\tremaining: 2m 30s\n",
      "189:\tlearn: 0.9012849\ttotal: 35.1s\tremaining: 2m 29s\n",
      "190:\tlearn: 0.9002494\ttotal: 35.3s\tremaining: 2m 29s\n",
      "191:\tlearn: 0.8994841\ttotal: 35.4s\tremaining: 2m 29s\n",
      "192:\tlearn: 0.8984586\ttotal: 35.6s\tremaining: 2m 28s\n",
      "193:\tlearn: 0.8977695\ttotal: 35.8s\tremaining: 2m 28s\n",
      "194:\tlearn: 0.8973107\ttotal: 35.9s\tremaining: 2m 28s\n",
      "195:\tlearn: 0.8972519\ttotal: 36.1s\tremaining: 2m 27s\n",
      "196:\tlearn: 0.8967943\ttotal: 36.2s\tremaining: 2m 27s\n",
      "197:\tlearn: 0.8963939\ttotal: 36.4s\tremaining: 2m 27s\n",
      "198:\tlearn: 0.8956599\ttotal: 36.5s\tremaining: 2m 26s\n",
      "199:\tlearn: 0.8953810\ttotal: 36.6s\tremaining: 2m 26s\n",
      "200:\tlearn: 0.8944374\ttotal: 36.8s\tremaining: 2m 26s\n",
      "201:\tlearn: 0.8933659\ttotal: 37s\tremaining: 2m 26s\n",
      "202:\tlearn: 0.8928080\ttotal: 37.1s\tremaining: 2m 25s\n",
      "203:\tlearn: 0.8923671\ttotal: 37.3s\tremaining: 2m 25s\n",
      "204:\tlearn: 0.8918629\ttotal: 37.4s\tremaining: 2m 25s\n",
      "205:\tlearn: 0.8911528\ttotal: 37.5s\tremaining: 2m 24s\n",
      "206:\tlearn: 0.8910844\ttotal: 37.7s\tremaining: 2m 24s\n",
      "207:\tlearn: 0.8906439\ttotal: 37.8s\tremaining: 2m 24s\n",
      "208:\tlearn: 0.8905817\ttotal: 38s\tremaining: 2m 23s\n",
      "209:\tlearn: 0.8898682\ttotal: 38.1s\tremaining: 2m 23s\n",
      "210:\tlearn: 0.8893608\ttotal: 38.3s\tremaining: 2m 23s\n",
      "211:\tlearn: 0.8892961\ttotal: 38.4s\tremaining: 2m 22s\n",
      "212:\tlearn: 0.8887999\ttotal: 38.6s\tremaining: 2m 22s\n",
      "213:\tlearn: 0.8883692\ttotal: 38.7s\tremaining: 2m 22s\n",
      "214:\tlearn: 0.8882212\ttotal: 38.9s\tremaining: 2m 21s\n",
      "215:\tlearn: 0.8875136\ttotal: 39s\tremaining: 2m 21s\n",
      "216:\tlearn: 0.8871011\ttotal: 39.2s\tremaining: 2m 21s\n",
      "217:\tlearn: 0.8870451\ttotal: 39.3s\tremaining: 2m 20s\n",
      "218:\tlearn: 0.8867766\ttotal: 39.4s\tremaining: 2m 20s\n",
      "219:\tlearn: 0.8863317\ttotal: 39.6s\tremaining: 2m 20s\n",
      "220:\tlearn: 0.8859134\ttotal: 39.7s\tremaining: 2m 20s\n",
      "221:\tlearn: 0.8853477\ttotal: 39.9s\tremaining: 2m 19s\n",
      "222:\tlearn: 0.8846373\ttotal: 40s\tremaining: 2m 19s\n",
      "223:\tlearn: 0.8842119\ttotal: 40.2s\tremaining: 2m 19s\n",
      "224:\tlearn: 0.8838772\ttotal: 40.3s\tremaining: 2m 18s\n",
      "225:\tlearn: 0.8835327\ttotal: 40.5s\tremaining: 2m 18s\n",
      "226:\tlearn: 0.8829168\ttotal: 40.6s\tremaining: 2m 18s\n",
      "227:\tlearn: 0.8806491\ttotal: 40.8s\tremaining: 2m 18s\n",
      "228:\tlearn: 0.8801068\ttotal: 41s\tremaining: 2m 17s\n",
      "229:\tlearn: 0.8798289\ttotal: 41.1s\tremaining: 2m 17s\n",
      "230:\tlearn: 0.8790088\ttotal: 41.3s\tremaining: 2m 17s\n",
      "231:\tlearn: 0.8785474\ttotal: 41.4s\tremaining: 2m 17s\n",
      "232:\tlearn: 0.8780437\ttotal: 41.6s\tremaining: 2m 16s\n",
      "233:\tlearn: 0.8767000\ttotal: 41.7s\tremaining: 2m 16s\n",
      "234:\tlearn: 0.8758643\ttotal: 41.9s\tremaining: 2m 16s\n",
      "235:\tlearn: 0.8752956\ttotal: 42s\tremaining: 2m 16s\n",
      "236:\tlearn: 0.8751936\ttotal: 42.2s\tremaining: 2m 15s\n",
      "237:\tlearn: 0.8748470\ttotal: 42.3s\tremaining: 2m 15s\n",
      "238:\tlearn: 0.8743924\ttotal: 42.5s\tremaining: 2m 15s\n",
      "239:\tlearn: 0.8740340\ttotal: 42.6s\tremaining: 2m 14s\n",
      "240:\tlearn: 0.8733614\ttotal: 42.8s\tremaining: 2m 14s\n",
      "241:\tlearn: 0.8729275\ttotal: 42.9s\tremaining: 2m 14s\n",
      "242:\tlearn: 0.8720456\ttotal: 43.1s\tremaining: 2m 14s\n",
      "243:\tlearn: 0.8719625\ttotal: 43.2s\tremaining: 2m 13s\n",
      "244:\tlearn: 0.8715371\ttotal: 43.4s\tremaining: 2m 13s\n",
      "245:\tlearn: 0.8710028\ttotal: 43.5s\tremaining: 2m 13s\n",
      "246:\tlearn: 0.8705685\ttotal: 43.7s\tremaining: 2m 13s\n",
      "247:\tlearn: 0.8701348\ttotal: 43.8s\tremaining: 2m 12s\n",
      "248:\tlearn: 0.8698595\ttotal: 44s\tremaining: 2m 12s\n",
      "249:\tlearn: 0.8690862\ttotal: 44.1s\tremaining: 2m 12s\n",
      "250:\tlearn: 0.8688221\ttotal: 44.3s\tremaining: 2m 12s\n",
      "251:\tlearn: 0.8687373\ttotal: 44.4s\tremaining: 2m 11s\n",
      "252:\tlearn: 0.8680314\ttotal: 44.6s\tremaining: 2m 11s\n",
      "253:\tlearn: 0.8676719\ttotal: 44.7s\tremaining: 2m 11s\n",
      "254:\tlearn: 0.8672324\ttotal: 44.8s\tremaining: 2m 11s\n",
      "255:\tlearn: 0.8659827\ttotal: 45s\tremaining: 2m 10s\n",
      "256:\tlearn: 0.8657148\ttotal: 45.1s\tremaining: 2m 10s\n",
      "257:\tlearn: 0.8652698\ttotal: 45.3s\tremaining: 2m 10s\n",
      "258:\tlearn: 0.8649788\ttotal: 45.5s\tremaining: 2m 10s\n",
      "259:\tlearn: 0.8643547\ttotal: 45.6s\tremaining: 2m 9s\n",
      "260:\tlearn: 0.8639333\ttotal: 45.7s\tremaining: 2m 9s\n",
      "261:\tlearn: 0.8630959\ttotal: 45.9s\tremaining: 2m 9s\n",
      "262:\tlearn: 0.8622271\ttotal: 46.1s\tremaining: 2m 9s\n",
      "263:\tlearn: 0.8618974\ttotal: 46.2s\tremaining: 2m 8s\n",
      "264:\tlearn: 0.8615880\ttotal: 46.4s\tremaining: 2m 8s\n",
      "265:\tlearn: 0.8605072\ttotal: 46.5s\tremaining: 2m 8s\n",
      "266:\tlearn: 0.8604315\ttotal: 46.7s\tremaining: 2m 8s\n",
      "267:\tlearn: 0.8598071\ttotal: 46.8s\tremaining: 2m 7s\n",
      "268:\tlearn: 0.8597043\ttotal: 47s\tremaining: 2m 7s\n",
      "269:\tlearn: 0.8596315\ttotal: 47.1s\tremaining: 2m 7s\n",
      "270:\tlearn: 0.8593259\ttotal: 47.3s\tremaining: 2m 7s\n",
      "271:\tlearn: 0.8589491\ttotal: 47.4s\tremaining: 2m 6s\n",
      "272:\tlearn: 0.8586558\ttotal: 47.5s\tremaining: 2m 6s\n",
      "273:\tlearn: 0.8582395\ttotal: 47.7s\tremaining: 2m 6s\n",
      "274:\tlearn: 0.8581799\ttotal: 47.8s\tremaining: 2m 6s\n",
      "275:\tlearn: 0.8581187\ttotal: 48s\tremaining: 2m 5s\n",
      "276:\tlearn: 0.8580815\ttotal: 48.1s\tremaining: 2m 5s\n",
      "277:\tlearn: 0.8563634\ttotal: 48.3s\tremaining: 2m 5s\n",
      "278:\tlearn: 0.8562997\ttotal: 48.4s\tremaining: 2m 5s\n",
      "279:\tlearn: 0.8558834\ttotal: 48.6s\tremaining: 2m 4s\n",
      "280:\tlearn: 0.8554441\ttotal: 48.7s\tremaining: 2m 4s\n",
      "281:\tlearn: 0.8551253\ttotal: 48.9s\tremaining: 2m 4s\n",
      "282:\tlearn: 0.8546843\ttotal: 49s\tremaining: 2m 4s\n",
      "283:\tlearn: 0.8543716\ttotal: 49.2s\tremaining: 2m 3s\n",
      "284:\tlearn: 0.8542934\ttotal: 49.3s\tremaining: 2m 3s\n",
      "285:\tlearn: 0.8542363\ttotal: 49.5s\tremaining: 2m 3s\n",
      "286:\tlearn: 0.8539767\ttotal: 49.6s\tremaining: 2m 3s\n",
      "287:\tlearn: 0.8537132\ttotal: 49.7s\tremaining: 2m 2s\n",
      "288:\tlearn: 0.8534008\ttotal: 49.9s\tremaining: 2m 2s\n",
      "289:\tlearn: 0.8523478\ttotal: 50.1s\tremaining: 2m 2s\n",
      "290:\tlearn: 0.8519018\ttotal: 50.2s\tremaining: 2m 2s\n",
      "291:\tlearn: 0.8514608\ttotal: 50.4s\tremaining: 2m 2s\n",
      "292:\tlearn: 0.8502457\ttotal: 50.5s\tremaining: 2m 1s\n",
      "293:\tlearn: 0.8501923\ttotal: 50.7s\tremaining: 2m 1s\n",
      "294:\tlearn: 0.8497538\ttotal: 50.8s\tremaining: 2m 1s\n",
      "295:\tlearn: 0.8493194\ttotal: 51s\tremaining: 2m 1s\n",
      "296:\tlearn: 0.8487595\ttotal: 51.1s\tremaining: 2m\n",
      "297:\tlearn: 0.8485020\ttotal: 51.3s\tremaining: 2m\n",
      "298:\tlearn: 0.8484386\ttotal: 51.4s\tremaining: 2m\n",
      "299:\tlearn: 0.8479953\ttotal: 51.6s\tremaining: 2m\n",
      "300:\tlearn: 0.8471129\ttotal: 51.7s\tremaining: 2m\n",
      "301:\tlearn: 0.8460291\ttotal: 51.9s\tremaining: 1m 59s\n",
      "302:\tlearn: 0.8459356\ttotal: 52s\tremaining: 1m 59s\n",
      "303:\tlearn: 0.8453444\ttotal: 52.2s\tremaining: 1m 59s\n",
      "304:\tlearn: 0.8450260\ttotal: 52.3s\tremaining: 1m 59s\n",
      "305:\tlearn: 0.8449614\ttotal: 52.5s\tremaining: 1m 59s\n",
      "306:\tlearn: 0.8444102\ttotal: 52.6s\tremaining: 1m 58s\n",
      "307:\tlearn: 0.8437810\ttotal: 52.8s\tremaining: 1m 58s\n",
      "308:\tlearn: 0.8433770\ttotal: 52.9s\tremaining: 1m 58s\n",
      "309:\tlearn: 0.8425872\ttotal: 53.1s\tremaining: 1m 58s\n",
      "310:\tlearn: 0.8417800\ttotal: 53.3s\tremaining: 1m 57s\n",
      "311:\tlearn: 0.8413984\ttotal: 53.4s\tremaining: 1m 57s\n",
      "312:\tlearn: 0.8397289\ttotal: 53.6s\tremaining: 1m 57s\n",
      "313:\tlearn: 0.8396741\ttotal: 53.7s\tremaining: 1m 57s\n",
      "314:\tlearn: 0.8390586\ttotal: 53.9s\tremaining: 1m 57s\n",
      "315:\tlearn: 0.8387106\ttotal: 54s\tremaining: 1m 56s\n",
      "316:\tlearn: 0.8386608\ttotal: 54.1s\tremaining: 1m 56s\n",
      "317:\tlearn: 0.8381846\ttotal: 54.3s\tremaining: 1m 56s\n",
      "318:\tlearn: 0.8381349\ttotal: 54.4s\tremaining: 1m 56s\n",
      "319:\tlearn: 0.8380809\ttotal: 54.6s\tremaining: 1m 55s\n",
      "320:\tlearn: 0.8373912\ttotal: 54.7s\tremaining: 1m 55s\n",
      "321:\tlearn: 0.8369743\ttotal: 54.9s\tremaining: 1m 55s\n",
      "322:\tlearn: 0.8365770\ttotal: 55s\tremaining: 1m 55s\n",
      "323:\tlearn: 0.8365061\ttotal: 55.2s\tremaining: 1m 55s\n",
      "324:\tlearn: 0.8362823\ttotal: 55.3s\tremaining: 1m 54s\n",
      "325:\tlearn: 0.8356050\ttotal: 55.5s\tremaining: 1m 54s\n",
      "326:\tlearn: 0.8352582\ttotal: 55.6s\tremaining: 1m 54s\n",
      "327:\tlearn: 0.8349413\ttotal: 55.8s\tremaining: 1m 54s\n",
      "328:\tlearn: 0.8346732\ttotal: 55.9s\tremaining: 1m 54s\n",
      "329:\tlearn: 0.8343642\ttotal: 56s\tremaining: 1m 53s\n",
      "330:\tlearn: 0.8338844\ttotal: 56.2s\tremaining: 1m 53s\n",
      "331:\tlearn: 0.8334609\ttotal: 56.4s\tremaining: 1m 53s\n",
      "332:\tlearn: 0.8330801\ttotal: 56.5s\tremaining: 1m 53s\n",
      "333:\tlearn: 0.8325224\ttotal: 56.7s\tremaining: 1m 52s\n",
      "334:\tlearn: 0.8324606\ttotal: 56.8s\tremaining: 1m 52s\n",
      "335:\tlearn: 0.8318820\ttotal: 56.9s\tremaining: 1m 52s\n",
      "336:\tlearn: 0.8314587\ttotal: 57.1s\tremaining: 1m 52s\n",
      "337:\tlearn: 0.8308486\ttotal: 57.3s\tremaining: 1m 52s\n",
      "338:\tlearn: 0.8298329\ttotal: 57.4s\tremaining: 1m 51s\n",
      "339:\tlearn: 0.8289861\ttotal: 57.6s\tremaining: 1m 51s\n",
      "340:\tlearn: 0.8289245\ttotal: 57.7s\tremaining: 1m 51s\n",
      "341:\tlearn: 0.8286940\ttotal: 57.9s\tremaining: 1m 51s\n",
      "342:\tlearn: 0.8284759\ttotal: 58s\tremaining: 1m 51s\n",
      "343:\tlearn: 0.8282080\ttotal: 58.2s\tremaining: 1m 50s\n",
      "344:\tlearn: 0.8273562\ttotal: 58.3s\tremaining: 1m 50s\n",
      "345:\tlearn: 0.8267882\ttotal: 58.5s\tremaining: 1m 50s\n",
      "346:\tlearn: 0.8261480\ttotal: 58.6s\tremaining: 1m 50s\n",
      "347:\tlearn: 0.8253868\ttotal: 58.8s\tremaining: 1m 50s\n",
      "348:\tlearn: 0.8250212\ttotal: 58.9s\tremaining: 1m 49s\n",
      "349:\tlearn: 0.8245240\ttotal: 59.1s\tremaining: 1m 49s\n",
      "350:\tlearn: 0.8242058\ttotal: 59.2s\tremaining: 1m 49s\n",
      "351:\tlearn: 0.8231988\ttotal: 59.4s\tremaining: 1m 49s\n",
      "352:\tlearn: 0.8230041\ttotal: 59.5s\tremaining: 1m 49s\n",
      "353:\tlearn: 0.8227161\ttotal: 59.7s\tremaining: 1m 48s\n",
      "354:\tlearn: 0.8218754\ttotal: 59.8s\tremaining: 1m 48s\n",
      "355:\tlearn: 0.8214364\ttotal: 60s\tremaining: 1m 48s\n",
      "356:\tlearn: 0.8212229\ttotal: 1m\tremaining: 1m 48s\n",
      "357:\tlearn: 0.8207829\ttotal: 1m\tremaining: 1m 48s\n",
      "358:\tlearn: 0.8207192\ttotal: 1m\tremaining: 1m 47s\n",
      "359:\tlearn: 0.8204172\ttotal: 1m\tremaining: 1m 47s\n",
      "360:\tlearn: 0.8196502\ttotal: 1m\tremaining: 1m 47s\n",
      "361:\tlearn: 0.8195623\ttotal: 1m\tremaining: 1m 47s\n",
      "362:\tlearn: 0.8192481\ttotal: 1m\tremaining: 1m 47s\n",
      "363:\tlearn: 0.8189874\ttotal: 1m 1s\tremaining: 1m 46s\n",
      "364:\tlearn: 0.8186872\ttotal: 1m 1s\tremaining: 1m 46s\n",
      "365:\tlearn: 0.8178974\ttotal: 1m 1s\tremaining: 1m 46s\n",
      "366:\tlearn: 0.8174694\ttotal: 1m 1s\tremaining: 1m 46s\n",
      "367:\tlearn: 0.8174065\ttotal: 1m 1s\tremaining: 1m 46s\n",
      "368:\tlearn: 0.8166282\ttotal: 1m 1s\tremaining: 1m 45s\n",
      "369:\tlearn: 0.8163527\ttotal: 1m 2s\tremaining: 1m 45s\n",
      "370:\tlearn: 0.8155736\ttotal: 1m 2s\tremaining: 1m 45s\n",
      "371:\tlearn: 0.8152852\ttotal: 1m 2s\tremaining: 1m 45s\n",
      "372:\tlearn: 0.8148442\ttotal: 1m 2s\tremaining: 1m 45s\n",
      "373:\tlearn: 0.8146016\ttotal: 1m 2s\tremaining: 1m 44s\n",
      "374:\tlearn: 0.8145548\ttotal: 1m 2s\tremaining: 1m 44s\n",
      "375:\tlearn: 0.8144477\ttotal: 1m 2s\tremaining: 1m 44s\n",
      "376:\tlearn: 0.8137753\ttotal: 1m 3s\tremaining: 1m 44s\n",
      "377:\tlearn: 0.8135047\ttotal: 1m 3s\tremaining: 1m 44s\n",
      "378:\tlearn: 0.8134524\ttotal: 1m 3s\tremaining: 1m 43s\n",
      "379:\tlearn: 0.8131761\ttotal: 1m 3s\tremaining: 1m 43s\n",
      "380:\tlearn: 0.8128552\ttotal: 1m 3s\tremaining: 1m 43s\n",
      "381:\tlearn: 0.8125141\ttotal: 1m 3s\tremaining: 1m 43s\n",
      "382:\tlearn: 0.8124774\ttotal: 1m 3s\tremaining: 1m 43s\n",
      "383:\tlearn: 0.8116336\ttotal: 1m 4s\tremaining: 1m 42s\n",
      "384:\tlearn: 0.8115768\ttotal: 1m 4s\tremaining: 1m 42s\n",
      "385:\tlearn: 0.8115267\ttotal: 1m 4s\tremaining: 1m 42s\n",
      "386:\tlearn: 0.8100974\ttotal: 1m 4s\tremaining: 1m 42s\n",
      "387:\tlearn: 0.8100274\ttotal: 1m 4s\tremaining: 1m 42s\n",
      "388:\tlearn: 0.8095868\ttotal: 1m 4s\tremaining: 1m 41s\n",
      "389:\tlearn: 0.8095358\ttotal: 1m 5s\tremaining: 1m 41s\n",
      "390:\tlearn: 0.8091518\ttotal: 1m 5s\tremaining: 1m 41s\n",
      "391:\tlearn: 0.8091069\ttotal: 1m 5s\tremaining: 1m 41s\n",
      "392:\tlearn: 0.8088641\ttotal: 1m 5s\tremaining: 1m 41s\n",
      "393:\tlearn: 0.8085531\ttotal: 1m 5s\tremaining: 1m 40s\n",
      "394:\tlearn: 0.8080994\ttotal: 1m 5s\tremaining: 1m 40s\n",
      "395:\tlearn: 0.8077872\ttotal: 1m 5s\tremaining: 1m 40s\n",
      "396:\tlearn: 0.8072517\ttotal: 1m 6s\tremaining: 1m 40s\n",
      "397:\tlearn: 0.8069152\ttotal: 1m 6s\tremaining: 1m 40s\n",
      "398:\tlearn: 0.8062036\ttotal: 1m 6s\tremaining: 1m 39s\n",
      "399:\tlearn: 0.8056983\ttotal: 1m 6s\tremaining: 1m 39s\n",
      "400:\tlearn: 0.8052186\ttotal: 1m 6s\tremaining: 1m 39s\n",
      "401:\tlearn: 0.8051426\ttotal: 1m 6s\tremaining: 1m 39s\n",
      "402:\tlearn: 0.8044950\ttotal: 1m 6s\tremaining: 1m 39s\n",
      "403:\tlearn: 0.8041235\ttotal: 1m 7s\tremaining: 1m 39s\n",
      "404:\tlearn: 0.8033918\ttotal: 1m 7s\tremaining: 1m 38s\n",
      "405:\tlearn: 0.8029447\ttotal: 1m 7s\tremaining: 1m 38s\n",
      "406:\tlearn: 0.8029085\ttotal: 1m 7s\tremaining: 1m 38s\n",
      "407:\tlearn: 0.8028403\ttotal: 1m 7s\tremaining: 1m 38s\n",
      "408:\tlearn: 0.8022073\ttotal: 1m 7s\tremaining: 1m 38s\n",
      "409:\tlearn: 0.8019175\ttotal: 1m 8s\tremaining: 1m 37s\n",
      "410:\tlearn: 0.8016528\ttotal: 1m 8s\tremaining: 1m 37s\n",
      "411:\tlearn: 0.8010918\ttotal: 1m 8s\tremaining: 1m 37s\n",
      "412:\tlearn: 0.8010229\ttotal: 1m 8s\tremaining: 1m 37s\n",
      "413:\tlearn: 0.8009780\ttotal: 1m 8s\tremaining: 1m 37s\n",
      "414:\tlearn: 0.8009285\ttotal: 1m 8s\tremaining: 1m 36s\n",
      "415:\tlearn: 0.8005494\ttotal: 1m 8s\tremaining: 1m 36s\n",
      "416:\tlearn: 0.7997076\ttotal: 1m 9s\tremaining: 1m 36s\n",
      "417:\tlearn: 0.7996578\ttotal: 1m 9s\tremaining: 1m 36s\n",
      "418:\tlearn: 0.7992756\ttotal: 1m 9s\tremaining: 1m 36s\n",
      "419:\tlearn: 0.7990220\ttotal: 1m 9s\tremaining: 1m 35s\n",
      "420:\tlearn: 0.7984810\ttotal: 1m 9s\tremaining: 1m 35s\n",
      "421:\tlearn: 0.7978257\ttotal: 1m 9s\tremaining: 1m 35s\n",
      "422:\tlearn: 0.7969034\ttotal: 1m 9s\tremaining: 1m 35s\n",
      "423:\tlearn: 0.7962721\ttotal: 1m 10s\tremaining: 1m 35s\n",
      "424:\tlearn: 0.7958374\ttotal: 1m 10s\tremaining: 1m 35s\n",
      "425:\tlearn: 0.7957133\ttotal: 1m 10s\tremaining: 1m 34s\n",
      "426:\tlearn: 0.7951074\ttotal: 1m 10s\tremaining: 1m 34s\n",
      "427:\tlearn: 0.7948030\ttotal: 1m 10s\tremaining: 1m 34s\n",
      "428:\tlearn: 0.7946096\ttotal: 1m 10s\tremaining: 1m 34s\n",
      "429:\tlearn: 0.7940036\ttotal: 1m 11s\tremaining: 1m 34s\n",
      "430:\tlearn: 0.7937584\ttotal: 1m 11s\tremaining: 1m 34s\n",
      "431:\tlearn: 0.7934318\ttotal: 1m 11s\tremaining: 1m 33s\n",
      "432:\tlearn: 0.7928313\ttotal: 1m 11s\tremaining: 1m 33s\n",
      "433:\tlearn: 0.7921390\ttotal: 1m 11s\tremaining: 1m 33s\n",
      "434:\tlearn: 0.7918624\ttotal: 1m 11s\tremaining: 1m 33s\n",
      "435:\tlearn: 0.7914589\ttotal: 1m 11s\tremaining: 1m 33s\n",
      "436:\tlearn: 0.7904196\ttotal: 1m 12s\tremaining: 1m 32s\n",
      "437:\tlearn: 0.7900947\ttotal: 1m 12s\tremaining: 1m 32s\n",
      "438:\tlearn: 0.7888637\ttotal: 1m 12s\tremaining: 1m 32s\n",
      "439:\tlearn: 0.7883999\ttotal: 1m 12s\tremaining: 1m 32s\n",
      "440:\tlearn: 0.7880946\ttotal: 1m 12s\tremaining: 1m 32s\n",
      "441:\tlearn: 0.7873840\ttotal: 1m 12s\tremaining: 1m 32s\n",
      "442:\tlearn: 0.7866785\ttotal: 1m 13s\tremaining: 1m 31s\n",
      "443:\tlearn: 0.7861168\ttotal: 1m 13s\tremaining: 1m 31s\n",
      "444:\tlearn: 0.7858701\ttotal: 1m 13s\tremaining: 1m 31s\n",
      "445:\tlearn: 0.7855849\ttotal: 1m 13s\tremaining: 1m 31s\n",
      "446:\tlearn: 0.7853064\ttotal: 1m 13s\tremaining: 1m 31s\n",
      "447:\tlearn: 0.7852503\ttotal: 1m 13s\tremaining: 1m 30s\n",
      "448:\tlearn: 0.7848121\ttotal: 1m 14s\tremaining: 1m 30s\n",
      "449:\tlearn: 0.7844963\ttotal: 1m 14s\tremaining: 1m 30s\n",
      "450:\tlearn: 0.7841811\ttotal: 1m 14s\tremaining: 1m 30s\n",
      "451:\tlearn: 0.7841406\ttotal: 1m 14s\tremaining: 1m 30s\n",
      "452:\tlearn: 0.7840990\ttotal: 1m 14s\tremaining: 1m 30s\n",
      "453:\tlearn: 0.7837052\ttotal: 1m 14s\tremaining: 1m 29s\n",
      "454:\tlearn: 0.7834836\ttotal: 1m 14s\tremaining: 1m 29s\n",
      "455:\tlearn: 0.7831874\ttotal: 1m 15s\tremaining: 1m 29s\n",
      "456:\tlearn: 0.7829134\ttotal: 1m 15s\tremaining: 1m 29s\n",
      "457:\tlearn: 0.7819600\ttotal: 1m 15s\tremaining: 1m 29s\n",
      "458:\tlearn: 0.7817419\ttotal: 1m 15s\tremaining: 1m 28s\n",
      "459:\tlearn: 0.7811716\ttotal: 1m 15s\tremaining: 1m 28s\n",
      "460:\tlearn: 0.7806451\ttotal: 1m 15s\tremaining: 1m 28s\n",
      "461:\tlearn: 0.7802853\ttotal: 1m 15s\tremaining: 1m 28s\n",
      "462:\tlearn: 0.7802112\ttotal: 1m 16s\tremaining: 1m 28s\n",
      "463:\tlearn: 0.7801505\ttotal: 1m 16s\tremaining: 1m 28s\n",
      "464:\tlearn: 0.7800555\ttotal: 1m 16s\tremaining: 1m 27s\n",
      "465:\tlearn: 0.7794969\ttotal: 1m 16s\tremaining: 1m 27s\n",
      "466:\tlearn: 0.7791499\ttotal: 1m 16s\tremaining: 1m 27s\n",
      "467:\tlearn: 0.7791022\ttotal: 1m 16s\tremaining: 1m 27s\n",
      "468:\tlearn: 0.7786418\ttotal: 1m 17s\tremaining: 1m 27s\n",
      "469:\tlearn: 0.7785802\ttotal: 1m 17s\tremaining: 1m 27s\n",
      "470:\tlearn: 0.7783153\ttotal: 1m 17s\tremaining: 1m 26s\n",
      "471:\tlearn: 0.7778123\ttotal: 1m 17s\tremaining: 1m 26s\n",
      "472:\tlearn: 0.7774684\ttotal: 1m 17s\tremaining: 1m 26s\n",
      "473:\tlearn: 0.7770865\ttotal: 1m 17s\tremaining: 1m 26s\n",
      "474:\tlearn: 0.7770390\ttotal: 1m 17s\tremaining: 1m 26s\n",
      "475:\tlearn: 0.7768118\ttotal: 1m 18s\tremaining: 1m 25s\n",
      "476:\tlearn: 0.7764438\ttotal: 1m 18s\tremaining: 1m 25s\n",
      "477:\tlearn: 0.7761416\ttotal: 1m 18s\tremaining: 1m 25s\n",
      "478:\tlearn: 0.7758959\ttotal: 1m 18s\tremaining: 1m 25s\n",
      "479:\tlearn: 0.7758310\ttotal: 1m 18s\tremaining: 1m 25s\n",
      "480:\tlearn: 0.7755449\ttotal: 1m 18s\tremaining: 1m 25s\n",
      "481:\tlearn: 0.7748404\ttotal: 1m 18s\tremaining: 1m 24s\n",
      "482:\tlearn: 0.7743899\ttotal: 1m 19s\tremaining: 1m 24s\n",
      "483:\tlearn: 0.7740605\ttotal: 1m 19s\tremaining: 1m 24s\n",
      "484:\tlearn: 0.7734766\ttotal: 1m 19s\tremaining: 1m 24s\n",
      "485:\tlearn: 0.7731115\ttotal: 1m 19s\tremaining: 1m 24s\n",
      "486:\tlearn: 0.7728768\ttotal: 1m 19s\tremaining: 1m 24s\n",
      "487:\tlearn: 0.7722832\ttotal: 1m 19s\tremaining: 1m 23s\n",
      "488:\tlearn: 0.7719763\ttotal: 1m 20s\tremaining: 1m 23s\n",
      "489:\tlearn: 0.7717685\ttotal: 1m 20s\tremaining: 1m 23s\n",
      "490:\tlearn: 0.7703705\ttotal: 1m 20s\tremaining: 1m 23s\n",
      "491:\tlearn: 0.7700107\ttotal: 1m 20s\tremaining: 1m 23s\n",
      "492:\tlearn: 0.7699649\ttotal: 1m 20s\tremaining: 1m 23s\n",
      "493:\tlearn: 0.7699207\ttotal: 1m 20s\tremaining: 1m 22s\n",
      "494:\tlearn: 0.7696271\ttotal: 1m 21s\tremaining: 1m 22s\n",
      "495:\tlearn: 0.7693017\ttotal: 1m 21s\tremaining: 1m 22s\n",
      "496:\tlearn: 0.7692505\ttotal: 1m 21s\tremaining: 1m 22s\n",
      "497:\tlearn: 0.7686774\ttotal: 1m 21s\tremaining: 1m 22s\n",
      "498:\tlearn: 0.7683756\ttotal: 1m 21s\tremaining: 1m 22s\n",
      "499:\tlearn: 0.7677929\ttotal: 1m 21s\tremaining: 1m 21s\n",
      "500:\tlearn: 0.7672662\ttotal: 1m 22s\tremaining: 1m 21s\n",
      "501:\tlearn: 0.7668779\ttotal: 1m 22s\tremaining: 1m 21s\n",
      "502:\tlearn: 0.7665748\ttotal: 1m 22s\tremaining: 1m 21s\n",
      "503:\tlearn: 0.7662833\ttotal: 1m 22s\tremaining: 1m 21s\n",
      "504:\tlearn: 0.7662167\ttotal: 1m 22s\tremaining: 1m 21s\n",
      "505:\tlearn: 0.7661346\ttotal: 1m 22s\tremaining: 1m 20s\n",
      "506:\tlearn: 0.7660813\ttotal: 1m 22s\tremaining: 1m 20s\n",
      "507:\tlearn: 0.7657032\ttotal: 1m 23s\tremaining: 1m 20s\n",
      "508:\tlearn: 0.7652625\ttotal: 1m 23s\tremaining: 1m 20s\n",
      "509:\tlearn: 0.7651754\ttotal: 1m 23s\tremaining: 1m 20s\n",
      "510:\tlearn: 0.7648516\ttotal: 1m 23s\tremaining: 1m 19s\n",
      "511:\tlearn: 0.7642094\ttotal: 1m 23s\tremaining: 1m 19s\n",
      "512:\tlearn: 0.7638975\ttotal: 1m 23s\tremaining: 1m 19s\n",
      "513:\tlearn: 0.7635775\ttotal: 1m 24s\tremaining: 1m 19s\n",
      "514:\tlearn: 0.7631411\ttotal: 1m 24s\tremaining: 1m 19s\n",
      "515:\tlearn: 0.7624240\ttotal: 1m 24s\tremaining: 1m 19s\n",
      "516:\tlearn: 0.7623552\ttotal: 1m 24s\tremaining: 1m 18s\n",
      "517:\tlearn: 0.7620993\ttotal: 1m 24s\tremaining: 1m 18s\n",
      "518:\tlearn: 0.7617264\ttotal: 1m 24s\tremaining: 1m 18s\n",
      "519:\tlearn: 0.7614731\ttotal: 1m 24s\tremaining: 1m 18s\n",
      "520:\tlearn: 0.7613183\ttotal: 1m 25s\tremaining: 1m 18s\n",
      "521:\tlearn: 0.7606480\ttotal: 1m 25s\tremaining: 1m 18s\n",
      "522:\tlearn: 0.7603449\ttotal: 1m 25s\tremaining: 1m 17s\n",
      "523:\tlearn: 0.7603127\ttotal: 1m 25s\tremaining: 1m 17s\n",
      "524:\tlearn: 0.7599034\ttotal: 1m 25s\tremaining: 1m 17s\n",
      "525:\tlearn: 0.7590690\ttotal: 1m 25s\tremaining: 1m 17s\n",
      "526:\tlearn: 0.7588607\ttotal: 1m 26s\tremaining: 1m 17s\n",
      "527:\tlearn: 0.7588154\ttotal: 1m 26s\tremaining: 1m 17s\n",
      "528:\tlearn: 0.7587753\ttotal: 1m 26s\tremaining: 1m 16s\n",
      "529:\tlearn: 0.7581618\ttotal: 1m 26s\tremaining: 1m 16s\n",
      "530:\tlearn: 0.7578304\ttotal: 1m 26s\tremaining: 1m 16s\n",
      "531:\tlearn: 0.7572614\ttotal: 1m 26s\tremaining: 1m 16s\n",
      "532:\tlearn: 0.7571505\ttotal: 1m 27s\tremaining: 1m 16s\n",
      "533:\tlearn: 0.7568378\ttotal: 1m 27s\tremaining: 1m 16s\n",
      "534:\tlearn: 0.7565565\ttotal: 1m 27s\tremaining: 1m 15s\n",
      "535:\tlearn: 0.7565214\ttotal: 1m 27s\tremaining: 1m 15s\n",
      "536:\tlearn: 0.7562174\ttotal: 1m 27s\tremaining: 1m 15s\n",
      "537:\tlearn: 0.7559158\ttotal: 1m 27s\tremaining: 1m 15s\n",
      "538:\tlearn: 0.7553173\ttotal: 1m 27s\tremaining: 1m 15s\n",
      "539:\tlearn: 0.7550870\ttotal: 1m 28s\tremaining: 1m 15s\n",
      "540:\tlearn: 0.7546164\ttotal: 1m 28s\tremaining: 1m 14s\n",
      "541:\tlearn: 0.7543067\ttotal: 1m 28s\tremaining: 1m 14s\n",
      "542:\tlearn: 0.7536252\ttotal: 1m 28s\tremaining: 1m 14s\n",
      "543:\tlearn: 0.7535791\ttotal: 1m 28s\tremaining: 1m 14s\n",
      "544:\tlearn: 0.7535327\ttotal: 1m 28s\tremaining: 1m 14s\n",
      "545:\tlearn: 0.7528747\ttotal: 1m 29s\tremaining: 1m 14s\n",
      "546:\tlearn: 0.7525118\ttotal: 1m 29s\tremaining: 1m 13s\n",
      "547:\tlearn: 0.7519594\ttotal: 1m 29s\tremaining: 1m 13s\n",
      "548:\tlearn: 0.7517138\ttotal: 1m 29s\tremaining: 1m 13s\n",
      "549:\tlearn: 0.7513195\ttotal: 1m 29s\tremaining: 1m 13s\n",
      "550:\tlearn: 0.7511114\ttotal: 1m 29s\tremaining: 1m 13s\n",
      "551:\tlearn: 0.7505403\ttotal: 1m 29s\tremaining: 1m 13s\n",
      "552:\tlearn: 0.7504931\ttotal: 1m 30s\tremaining: 1m 12s\n",
      "553:\tlearn: 0.7502362\ttotal: 1m 30s\tremaining: 1m 12s\n",
      "554:\tlearn: 0.7498865\ttotal: 1m 30s\tremaining: 1m 12s\n",
      "555:\tlearn: 0.7498454\ttotal: 1m 30s\tremaining: 1m 12s\n",
      "556:\tlearn: 0.7498023\ttotal: 1m 30s\tremaining: 1m 12s\n",
      "557:\tlearn: 0.7497554\ttotal: 1m 30s\tremaining: 1m 11s\n",
      "558:\tlearn: 0.7487074\ttotal: 1m 31s\tremaining: 1m 11s\n",
      "559:\tlearn: 0.7484184\ttotal: 1m 31s\tremaining: 1m 11s\n",
      "560:\tlearn: 0.7478178\ttotal: 1m 31s\tremaining: 1m 11s\n",
      "561:\tlearn: 0.7477548\ttotal: 1m 31s\tremaining: 1m 11s\n",
      "562:\tlearn: 0.7475104\ttotal: 1m 31s\tremaining: 1m 11s\n",
      "563:\tlearn: 0.7472651\ttotal: 1m 31s\tremaining: 1m 10s\n",
      "564:\tlearn: 0.7467523\ttotal: 1m 31s\tremaining: 1m 10s\n",
      "565:\tlearn: 0.7467165\ttotal: 1m 32s\tremaining: 1m 10s\n",
      "566:\tlearn: 0.7464101\ttotal: 1m 32s\tremaining: 1m 10s\n",
      "567:\tlearn: 0.7461457\ttotal: 1m 32s\tremaining: 1m 10s\n",
      "568:\tlearn: 0.7455259\ttotal: 1m 32s\tremaining: 1m 10s\n",
      "569:\tlearn: 0.7452011\ttotal: 1m 32s\tremaining: 1m 9s\n",
      "570:\tlearn: 0.7449333\ttotal: 1m 32s\tremaining: 1m 9s\n",
      "571:\tlearn: 0.7443949\ttotal: 1m 33s\tremaining: 1m 9s\n",
      "572:\tlearn: 0.7438401\ttotal: 1m 33s\tremaining: 1m 9s\n",
      "573:\tlearn: 0.7434604\ttotal: 1m 33s\tremaining: 1m 9s\n",
      "574:\tlearn: 0.7434017\ttotal: 1m 33s\tremaining: 1m 9s\n",
      "575:\tlearn: 0.7433433\ttotal: 1m 33s\tremaining: 1m 8s\n",
      "576:\tlearn: 0.7424886\ttotal: 1m 33s\tremaining: 1m 8s\n",
      "577:\tlearn: 0.7422363\ttotal: 1m 33s\tremaining: 1m 8s\n",
      "578:\tlearn: 0.7416533\ttotal: 1m 34s\tremaining: 1m 8s\n",
      "579:\tlearn: 0.7415997\ttotal: 1m 34s\tremaining: 1m 8s\n",
      "580:\tlearn: 0.7413805\ttotal: 1m 34s\tremaining: 1m 8s\n",
      "581:\tlearn: 0.7411128\ttotal: 1m 34s\tremaining: 1m 7s\n",
      "582:\tlearn: 0.7408650\ttotal: 1m 34s\tremaining: 1m 7s\n",
      "583:\tlearn: 0.7402092\ttotal: 1m 34s\tremaining: 1m 7s\n",
      "584:\tlearn: 0.7399896\ttotal: 1m 35s\tremaining: 1m 7s\n",
      "585:\tlearn: 0.7394227\ttotal: 1m 35s\tremaining: 1m 7s\n",
      "586:\tlearn: 0.7389944\ttotal: 1m 35s\tremaining: 1m 7s\n",
      "587:\tlearn: 0.7386345\ttotal: 1m 35s\tremaining: 1m 6s\n",
      "588:\tlearn: 0.7385491\ttotal: 1m 35s\tremaining: 1m 6s\n",
      "589:\tlearn: 0.7385080\ttotal: 1m 35s\tremaining: 1m 6s\n",
      "590:\tlearn: 0.7384591\ttotal: 1m 35s\tremaining: 1m 6s\n",
      "591:\tlearn: 0.7384206\ttotal: 1m 36s\tremaining: 1m 6s\n",
      "592:\tlearn: 0.7381104\ttotal: 1m 36s\tremaining: 1m 6s\n",
      "593:\tlearn: 0.7376785\ttotal: 1m 36s\tremaining: 1m 5s\n",
      "594:\tlearn: 0.7374401\ttotal: 1m 36s\tremaining: 1m 5s\n",
      "595:\tlearn: 0.7370091\ttotal: 1m 36s\tremaining: 1m 5s\n",
      "596:\tlearn: 0.7363584\ttotal: 1m 36s\tremaining: 1m 5s\n",
      "597:\tlearn: 0.7361147\ttotal: 1m 37s\tremaining: 1m 5s\n",
      "598:\tlearn: 0.7356682\ttotal: 1m 37s\tremaining: 1m 5s\n",
      "599:\tlearn: 0.7351490\ttotal: 1m 37s\tremaining: 1m 4s\n",
      "600:\tlearn: 0.7347266\ttotal: 1m 37s\tremaining: 1m 4s\n",
      "601:\tlearn: 0.7344188\ttotal: 1m 37s\tremaining: 1m 4s\n",
      "602:\tlearn: 0.7339055\ttotal: 1m 37s\tremaining: 1m 4s\n",
      "603:\tlearn: 0.7336142\ttotal: 1m 38s\tremaining: 1m 4s\n",
      "604:\tlearn: 0.7329792\ttotal: 1m 38s\tremaining: 1m 4s\n",
      "605:\tlearn: 0.7329278\ttotal: 1m 38s\tremaining: 1m 3s\n",
      "606:\tlearn: 0.7319320\ttotal: 1m 38s\tremaining: 1m 3s\n",
      "607:\tlearn: 0.7316688\ttotal: 1m 38s\tremaining: 1m 3s\n",
      "608:\tlearn: 0.7307217\ttotal: 1m 38s\tremaining: 1m 3s\n",
      "609:\tlearn: 0.7304545\ttotal: 1m 39s\tremaining: 1m 3s\n",
      "610:\tlearn: 0.7300192\ttotal: 1m 39s\tremaining: 1m 3s\n",
      "611:\tlearn: 0.7295824\ttotal: 1m 39s\tremaining: 1m 2s\n",
      "612:\tlearn: 0.7292917\ttotal: 1m 39s\tremaining: 1m 2s\n",
      "613:\tlearn: 0.7290454\ttotal: 1m 39s\tremaining: 1m 2s\n",
      "614:\tlearn: 0.7287887\ttotal: 1m 39s\tremaining: 1m 2s\n",
      "615:\tlearn: 0.7282670\ttotal: 1m 39s\tremaining: 1m 2s\n",
      "616:\tlearn: 0.7276146\ttotal: 1m 40s\tremaining: 1m 2s\n",
      "617:\tlearn: 0.7273143\ttotal: 1m 40s\tremaining: 1m 1s\n",
      "618:\tlearn: 0.7266917\ttotal: 1m 40s\tremaining: 1m 1s\n",
      "619:\tlearn: 0.7265216\ttotal: 1m 40s\tremaining: 1m 1s\n",
      "620:\tlearn: 0.7263310\ttotal: 1m 40s\tremaining: 1m 1s\n",
      "621:\tlearn: 0.7262875\ttotal: 1m 40s\tremaining: 1m 1s\n",
      "622:\tlearn: 0.7262390\ttotal: 1m 41s\tremaining: 1m 1s\n",
      "623:\tlearn: 0.7258002\ttotal: 1m 41s\tremaining: 1m\n",
      "624:\tlearn: 0.7255360\ttotal: 1m 41s\tremaining: 1m\n",
      "625:\tlearn: 0.7252629\ttotal: 1m 41s\tremaining: 1m\n",
      "626:\tlearn: 0.7251962\ttotal: 1m 41s\tremaining: 1m\n",
      "627:\tlearn: 0.7248795\ttotal: 1m 41s\tremaining: 1m\n",
      "628:\tlearn: 0.7244601\ttotal: 1m 41s\tremaining: 1m\n",
      "629:\tlearn: 0.7239729\ttotal: 1m 42s\tremaining: 60s\n",
      "630:\tlearn: 0.7237673\ttotal: 1m 42s\tremaining: 59.8s\n",
      "631:\tlearn: 0.7237291\ttotal: 1m 42s\tremaining: 59.7s\n",
      "632:\tlearn: 0.7236618\ttotal: 1m 42s\tremaining: 59.5s\n",
      "633:\tlearn: 0.7230704\ttotal: 1m 42s\tremaining: 59.3s\n",
      "634:\tlearn: 0.7228397\ttotal: 1m 42s\tremaining: 59.2s\n",
      "635:\tlearn: 0.7226354\ttotal: 1m 43s\tremaining: 59s\n",
      "636:\tlearn: 0.7221200\ttotal: 1m 43s\tremaining: 58.8s\n",
      "637:\tlearn: 0.7217927\ttotal: 1m 43s\tremaining: 58.7s\n",
      "638:\tlearn: 0.7215471\ttotal: 1m 43s\tremaining: 58.5s\n",
      "639:\tlearn: 0.7212908\ttotal: 1m 43s\tremaining: 58.3s\n",
      "640:\tlearn: 0.7204890\ttotal: 1m 43s\tremaining: 58.2s\n",
      "641:\tlearn: 0.7199637\ttotal: 1m 44s\tremaining: 58s\n",
      "642:\tlearn: 0.7192678\ttotal: 1m 44s\tremaining: 57.8s\n",
      "643:\tlearn: 0.7190124\ttotal: 1m 44s\tremaining: 57.7s\n",
      "644:\tlearn: 0.7182431\ttotal: 1m 44s\tremaining: 57.5s\n",
      "645:\tlearn: 0.7179290\ttotal: 1m 44s\tremaining: 57.4s\n",
      "646:\tlearn: 0.7176472\ttotal: 1m 44s\tremaining: 57.2s\n",
      "647:\tlearn: 0.7173848\ttotal: 1m 44s\tremaining: 57s\n",
      "648:\tlearn: 0.7170606\ttotal: 1m 45s\tremaining: 56.9s\n",
      "649:\tlearn: 0.7168529\ttotal: 1m 45s\tremaining: 56.7s\n",
      "650:\tlearn: 0.7166862\ttotal: 1m 45s\tremaining: 56.5s\n",
      "651:\tlearn: 0.7166250\ttotal: 1m 45s\tremaining: 56.4s\n",
      "652:\tlearn: 0.7165964\ttotal: 1m 45s\tremaining: 56.2s\n",
      "653:\tlearn: 0.7162073\ttotal: 1m 45s\tremaining: 56s\n",
      "654:\tlearn: 0.7161559\ttotal: 1m 46s\tremaining: 55.8s\n",
      "655:\tlearn: 0.7160590\ttotal: 1m 46s\tremaining: 55.7s\n",
      "656:\tlearn: 0.7159986\ttotal: 1m 46s\tremaining: 55.5s\n",
      "657:\tlearn: 0.7158295\ttotal: 1m 46s\tremaining: 55.3s\n",
      "658:\tlearn: 0.7153922\ttotal: 1m 46s\tremaining: 55.2s\n",
      "659:\tlearn: 0.7147246\ttotal: 1m 46s\tremaining: 55s\n",
      "660:\tlearn: 0.7143102\ttotal: 1m 46s\tremaining: 54.8s\n",
      "661:\tlearn: 0.7140531\ttotal: 1m 47s\tremaining: 54.7s\n",
      "662:\tlearn: 0.7140131\ttotal: 1m 47s\tremaining: 54.5s\n",
      "663:\tlearn: 0.7139741\ttotal: 1m 47s\tremaining: 54.3s\n",
      "664:\tlearn: 0.7138088\ttotal: 1m 47s\tremaining: 54.2s\n",
      "665:\tlearn: 0.7132537\ttotal: 1m 47s\tremaining: 54s\n",
      "666:\tlearn: 0.7130232\ttotal: 1m 47s\tremaining: 53.8s\n",
      "667:\tlearn: 0.7125104\ttotal: 1m 48s\tremaining: 53.7s\n",
      "668:\tlearn: 0.7122650\ttotal: 1m 48s\tremaining: 53.5s\n",
      "669:\tlearn: 0.7118667\ttotal: 1m 48s\tremaining: 53.4s\n",
      "670:\tlearn: 0.7117655\ttotal: 1m 48s\tremaining: 53.2s\n",
      "671:\tlearn: 0.7117264\ttotal: 1m 48s\tremaining: 53s\n",
      "672:\tlearn: 0.7115497\ttotal: 1m 48s\tremaining: 52.8s\n",
      "673:\tlearn: 0.7113312\ttotal: 1m 48s\tremaining: 52.7s\n",
      "674:\tlearn: 0.7110734\ttotal: 1m 49s\tremaining: 52.5s\n",
      "675:\tlearn: 0.7103722\ttotal: 1m 49s\tremaining: 52.4s\n",
      "676:\tlearn: 0.7101400\ttotal: 1m 49s\tremaining: 52.2s\n",
      "677:\tlearn: 0.7098655\ttotal: 1m 49s\tremaining: 52s\n",
      "678:\tlearn: 0.7098165\ttotal: 1m 49s\tremaining: 51.9s\n",
      "679:\tlearn: 0.7097599\ttotal: 1m 49s\tremaining: 51.7s\n",
      "680:\tlearn: 0.7094698\ttotal: 1m 49s\tremaining: 51.5s\n",
      "681:\tlearn: 0.7086911\ttotal: 1m 50s\tremaining: 51.4s\n",
      "682:\tlearn: 0.7086055\ttotal: 1m 50s\tremaining: 51.2s\n",
      "683:\tlearn: 0.7085664\ttotal: 1m 50s\tremaining: 51s\n",
      "684:\tlearn: 0.7078262\ttotal: 1m 50s\tremaining: 50.9s\n",
      "685:\tlearn: 0.7077854\ttotal: 1m 50s\tremaining: 50.7s\n",
      "686:\tlearn: 0.7073136\ttotal: 1m 50s\tremaining: 50.5s\n",
      "687:\tlearn: 0.7071231\ttotal: 1m 51s\tremaining: 50.4s\n",
      "688:\tlearn: 0.7070719\ttotal: 1m 51s\tremaining: 50.2s\n",
      "689:\tlearn: 0.7068777\ttotal: 1m 51s\tremaining: 50s\n",
      "690:\tlearn: 0.7064273\ttotal: 1m 51s\tremaining: 49.9s\n",
      "691:\tlearn: 0.7059643\ttotal: 1m 51s\tremaining: 49.7s\n",
      "692:\tlearn: 0.7051528\ttotal: 1m 51s\tremaining: 49.6s\n",
      "693:\tlearn: 0.7049644\ttotal: 1m 52s\tremaining: 49.4s\n",
      "694:\tlearn: 0.7046921\ttotal: 1m 52s\tremaining: 49.2s\n",
      "695:\tlearn: 0.7046156\ttotal: 1m 52s\tremaining: 49.1s\n",
      "696:\tlearn: 0.7045733\ttotal: 1m 52s\tremaining: 48.9s\n",
      "697:\tlearn: 0.7042528\ttotal: 1m 52s\tremaining: 48.7s\n",
      "698:\tlearn: 0.7034938\ttotal: 1m 52s\tremaining: 48.6s\n",
      "699:\tlearn: 0.7034342\ttotal: 1m 52s\tremaining: 48.4s\n",
      "700:\tlearn: 0.7032367\ttotal: 1m 53s\tremaining: 48.2s\n",
      "701:\tlearn: 0.7029923\ttotal: 1m 53s\tremaining: 48.1s\n",
      "702:\tlearn: 0.7024551\ttotal: 1m 53s\tremaining: 47.9s\n",
      "703:\tlearn: 0.7020085\ttotal: 1m 53s\tremaining: 47.8s\n",
      "704:\tlearn: 0.7011723\ttotal: 1m 53s\tremaining: 47.6s\n",
      "705:\tlearn: 0.7007912\ttotal: 1m 53s\tremaining: 47.4s\n",
      "706:\tlearn: 0.7004549\ttotal: 1m 54s\tremaining: 47.3s\n",
      "707:\tlearn: 0.7003822\ttotal: 1m 54s\tremaining: 47.1s\n",
      "708:\tlearn: 0.7003376\ttotal: 1m 54s\tremaining: 46.9s\n",
      "709:\tlearn: 0.7000325\ttotal: 1m 54s\tremaining: 46.8s\n",
      "710:\tlearn: 0.6997175\ttotal: 1m 54s\tremaining: 46.6s\n",
      "711:\tlearn: 0.6990661\ttotal: 1m 54s\tremaining: 46.4s\n",
      "712:\tlearn: 0.6988167\ttotal: 1m 54s\tremaining: 46.3s\n",
      "713:\tlearn: 0.6982461\ttotal: 1m 55s\tremaining: 46.1s\n",
      "714:\tlearn: 0.6979837\ttotal: 1m 55s\tremaining: 46s\n",
      "715:\tlearn: 0.6974190\ttotal: 1m 55s\tremaining: 45.8s\n",
      "716:\tlearn: 0.6968455\ttotal: 1m 55s\tremaining: 45.6s\n",
      "717:\tlearn: 0.6963605\ttotal: 1m 55s\tremaining: 45.5s\n",
      "718:\tlearn: 0.6961464\ttotal: 1m 55s\tremaining: 45.3s\n",
      "719:\tlearn: 0.6954338\ttotal: 1m 56s\tremaining: 45.2s\n",
      "720:\tlearn: 0.6952369\ttotal: 1m 56s\tremaining: 45s\n",
      "721:\tlearn: 0.6949001\ttotal: 1m 56s\tremaining: 44.8s\n",
      "722:\tlearn: 0.6945471\ttotal: 1m 56s\tremaining: 44.7s\n",
      "723:\tlearn: 0.6943024\ttotal: 1m 56s\tremaining: 44.5s\n",
      "724:\tlearn: 0.6942152\ttotal: 1m 56s\tremaining: 44.3s\n",
      "725:\tlearn: 0.6941831\ttotal: 1m 57s\tremaining: 44.2s\n",
      "726:\tlearn: 0.6939534\ttotal: 1m 57s\tremaining: 44s\n",
      "727:\tlearn: 0.6936718\ttotal: 1m 57s\tremaining: 43.8s\n",
      "728:\tlearn: 0.6933269\ttotal: 1m 57s\tremaining: 43.7s\n",
      "729:\tlearn: 0.6921123\ttotal: 1m 57s\tremaining: 43.5s\n",
      "730:\tlearn: 0.6917699\ttotal: 1m 57s\tremaining: 43.4s\n",
      "731:\tlearn: 0.6912686\ttotal: 1m 58s\tremaining: 43.2s\n",
      "732:\tlearn: 0.6907932\ttotal: 1m 58s\tremaining: 43.1s\n",
      "733:\tlearn: 0.6904844\ttotal: 1m 58s\tremaining: 42.9s\n",
      "734:\tlearn: 0.6901941\ttotal: 1m 58s\tremaining: 42.7s\n",
      "735:\tlearn: 0.6898723\ttotal: 1m 58s\tremaining: 42.6s\n",
      "736:\tlearn: 0.6898152\ttotal: 1m 58s\tremaining: 42.4s\n",
      "737:\tlearn: 0.6897747\ttotal: 1m 59s\tremaining: 42.2s\n",
      "738:\tlearn: 0.6891718\ttotal: 1m 59s\tremaining: 42.1s\n",
      "739:\tlearn: 0.6887826\ttotal: 1m 59s\tremaining: 41.9s\n",
      "740:\tlearn: 0.6884372\ttotal: 1m 59s\tremaining: 41.8s\n",
      "741:\tlearn: 0.6882580\ttotal: 1m 59s\tremaining: 41.6s\n",
      "742:\tlearn: 0.6875350\ttotal: 1m 59s\tremaining: 41.4s\n",
      "743:\tlearn: 0.6872871\ttotal: 1m 59s\tremaining: 41.3s\n",
      "744:\tlearn: 0.6872095\ttotal: 2m\tremaining: 41.1s\n",
      "745:\tlearn: 0.6868482\ttotal: 2m\tremaining: 41s\n",
      "746:\tlearn: 0.6868082\ttotal: 2m\tremaining: 40.8s\n",
      "747:\tlearn: 0.6865056\ttotal: 2m\tremaining: 40.6s\n",
      "748:\tlearn: 0.6862297\ttotal: 2m\tremaining: 40.5s\n",
      "749:\tlearn: 0.6861875\ttotal: 2m\tremaining: 40.3s\n",
      "750:\tlearn: 0.6860652\ttotal: 2m 1s\tremaining: 40.1s\n",
      "751:\tlearn: 0.6856433\ttotal: 2m 1s\tremaining: 40s\n",
      "752:\tlearn: 0.6856013\ttotal: 2m 1s\tremaining: 39.8s\n",
      "753:\tlearn: 0.6853785\ttotal: 2m 1s\tremaining: 39.6s\n",
      "754:\tlearn: 0.6850005\ttotal: 2m 1s\tremaining: 39.5s\n",
      "755:\tlearn: 0.6848311\ttotal: 2m 1s\tremaining: 39.3s\n",
      "756:\tlearn: 0.6846174\ttotal: 2m 1s\tremaining: 39.2s\n",
      "757:\tlearn: 0.6843614\ttotal: 2m 2s\tremaining: 39s\n",
      "758:\tlearn: 0.6843155\ttotal: 2m 2s\tremaining: 38.8s\n",
      "759:\tlearn: 0.6840913\ttotal: 2m 2s\tremaining: 38.7s\n",
      "760:\tlearn: 0.6838420\ttotal: 2m 2s\tremaining: 38.5s\n",
      "761:\tlearn: 0.6835133\ttotal: 2m 2s\tremaining: 38.3s\n",
      "762:\tlearn: 0.6831317\ttotal: 2m 2s\tremaining: 38.2s\n",
      "763:\tlearn: 0.6829497\ttotal: 2m 3s\tremaining: 38s\n",
      "764:\tlearn: 0.6828164\ttotal: 2m 3s\tremaining: 37.8s\n",
      "765:\tlearn: 0.6825245\ttotal: 2m 3s\tremaining: 37.7s\n",
      "766:\tlearn: 0.6824746\ttotal: 2m 3s\tremaining: 37.5s\n",
      "767:\tlearn: 0.6824139\ttotal: 2m 3s\tremaining: 37.4s\n",
      "768:\tlearn: 0.6819206\ttotal: 2m 3s\tremaining: 37.2s\n",
      "769:\tlearn: 0.6816933\ttotal: 2m 3s\tremaining: 37s\n",
      "770:\tlearn: 0.6812743\ttotal: 2m 4s\tremaining: 36.9s\n",
      "771:\tlearn: 0.6812365\ttotal: 2m 4s\tremaining: 36.7s\n",
      "772:\tlearn: 0.6809484\ttotal: 2m 4s\tremaining: 36.5s\n",
      "773:\tlearn: 0.6806716\ttotal: 2m 4s\tremaining: 36.4s\n",
      "774:\tlearn: 0.6806358\ttotal: 2m 4s\tremaining: 36.2s\n",
      "775:\tlearn: 0.6805742\ttotal: 2m 4s\tremaining: 36.1s\n",
      "776:\tlearn: 0.6803451\ttotal: 2m 5s\tremaining: 35.9s\n",
      "777:\tlearn: 0.6803123\ttotal: 2m 5s\tremaining: 35.7s\n",
      "778:\tlearn: 0.6801874\ttotal: 2m 5s\tremaining: 35.6s\n",
      "779:\tlearn: 0.6801467\ttotal: 2m 5s\tremaining: 35.4s\n",
      "780:\tlearn: 0.6798400\ttotal: 2m 5s\tremaining: 35.2s\n",
      "781:\tlearn: 0.6797909\ttotal: 2m 5s\tremaining: 35.1s\n",
      "782:\tlearn: 0.6794268\ttotal: 2m 6s\tremaining: 34.9s\n",
      "783:\tlearn: 0.6791416\ttotal: 2m 6s\tremaining: 34.8s\n",
      "784:\tlearn: 0.6785715\ttotal: 2m 6s\tremaining: 34.6s\n",
      "785:\tlearn: 0.6785324\ttotal: 2m 6s\tremaining: 34.4s\n",
      "786:\tlearn: 0.6779833\ttotal: 2m 6s\tremaining: 34.3s\n",
      "787:\tlearn: 0.6776995\ttotal: 2m 6s\tremaining: 34.1s\n",
      "788:\tlearn: 0.6773992\ttotal: 2m 7s\tremaining: 34s\n",
      "789:\tlearn: 0.6768312\ttotal: 2m 7s\tremaining: 33.8s\n",
      "790:\tlearn: 0.6766153\ttotal: 2m 7s\tremaining: 33.6s\n",
      "791:\tlearn: 0.6761415\ttotal: 2m 7s\tremaining: 33.5s\n",
      "792:\tlearn: 0.6760962\ttotal: 2m 7s\tremaining: 33.3s\n",
      "793:\tlearn: 0.6759275\ttotal: 2m 7s\tremaining: 33.2s\n",
      "794:\tlearn: 0.6753952\ttotal: 2m 8s\tremaining: 33s\n",
      "795:\tlearn: 0.6750999\ttotal: 2m 8s\tremaining: 32.9s\n",
      "796:\tlearn: 0.6749074\ttotal: 2m 8s\tremaining: 32.7s\n",
      "797:\tlearn: 0.6745491\ttotal: 2m 8s\tremaining: 32.5s\n",
      "798:\tlearn: 0.6742724\ttotal: 2m 8s\tremaining: 32.4s\n",
      "799:\tlearn: 0.6742208\ttotal: 2m 8s\tremaining: 32.2s\n",
      "800:\tlearn: 0.6740871\ttotal: 2m 9s\tremaining: 32.1s\n",
      "801:\tlearn: 0.6739094\ttotal: 2m 9s\tremaining: 31.9s\n",
      "802:\tlearn: 0.6735890\ttotal: 2m 9s\tremaining: 31.7s\n",
      "803:\tlearn: 0.6731706\ttotal: 2m 9s\tremaining: 31.6s\n",
      "804:\tlearn: 0.6729632\ttotal: 2m 9s\tremaining: 31.4s\n",
      "805:\tlearn: 0.6727801\ttotal: 2m 9s\tremaining: 31.3s\n",
      "806:\tlearn: 0.6727333\ttotal: 2m 10s\tremaining: 31.1s\n",
      "807:\tlearn: 0.6725409\ttotal: 2m 10s\tremaining: 30.9s\n",
      "808:\tlearn: 0.6722698\ttotal: 2m 10s\tremaining: 30.8s\n",
      "809:\tlearn: 0.6720192\ttotal: 2m 10s\tremaining: 30.6s\n",
      "810:\tlearn: 0.6715613\ttotal: 2m 10s\tremaining: 30.5s\n",
      "811:\tlearn: 0.6713170\ttotal: 2m 10s\tremaining: 30.3s\n",
      "812:\tlearn: 0.6711246\ttotal: 2m 11s\tremaining: 30.1s\n",
      "813:\tlearn: 0.6708521\ttotal: 2m 11s\tremaining: 30s\n",
      "814:\tlearn: 0.6706573\ttotal: 2m 11s\tremaining: 29.8s\n",
      "815:\tlearn: 0.6705680\ttotal: 2m 11s\tremaining: 29.7s\n",
      "816:\tlearn: 0.6703444\ttotal: 2m 11s\tremaining: 29.5s\n",
      "817:\tlearn: 0.6700545\ttotal: 2m 11s\tremaining: 29.3s\n",
      "818:\tlearn: 0.6698267\ttotal: 2m 12s\tremaining: 29.2s\n",
      "819:\tlearn: 0.6697060\ttotal: 2m 12s\tremaining: 29s\n",
      "820:\tlearn: 0.6696438\ttotal: 2m 12s\tremaining: 28.9s\n",
      "821:\tlearn: 0.6691551\ttotal: 2m 12s\tremaining: 28.7s\n",
      "822:\tlearn: 0.6687876\ttotal: 2m 12s\tremaining: 28.5s\n",
      "823:\tlearn: 0.6686415\ttotal: 2m 12s\tremaining: 28.4s\n",
      "824:\tlearn: 0.6685904\ttotal: 2m 13s\tremaining: 28.2s\n",
      "825:\tlearn: 0.6682762\ttotal: 2m 13s\tremaining: 28.1s\n",
      "826:\tlearn: 0.6682400\ttotal: 2m 13s\tremaining: 27.9s\n",
      "827:\tlearn: 0.6679869\ttotal: 2m 13s\tremaining: 27.7s\n",
      "828:\tlearn: 0.6677601\ttotal: 2m 13s\tremaining: 27.6s\n",
      "829:\tlearn: 0.6673409\ttotal: 2m 13s\tremaining: 27.4s\n",
      "830:\tlearn: 0.6670603\ttotal: 2m 14s\tremaining: 27.3s\n",
      "831:\tlearn: 0.6670025\ttotal: 2m 14s\tremaining: 27.1s\n",
      "832:\tlearn: 0.6668316\ttotal: 2m 14s\tremaining: 27s\n",
      "833:\tlearn: 0.6666108\ttotal: 2m 14s\tremaining: 26.8s\n",
      "834:\tlearn: 0.6664307\ttotal: 2m 14s\tremaining: 26.6s\n",
      "835:\tlearn: 0.6659928\ttotal: 2m 14s\tremaining: 26.5s\n",
      "836:\tlearn: 0.6659493\ttotal: 2m 15s\tremaining: 26.3s\n",
      "837:\tlearn: 0.6657987\ttotal: 2m 15s\tremaining: 26.1s\n",
      "838:\tlearn: 0.6657646\ttotal: 2m 15s\tremaining: 26s\n",
      "839:\tlearn: 0.6654954\ttotal: 2m 15s\tremaining: 25.8s\n",
      "840:\tlearn: 0.6650267\ttotal: 2m 15s\tremaining: 25.7s\n",
      "841:\tlearn: 0.6647907\ttotal: 2m 15s\tremaining: 25.5s\n",
      "842:\tlearn: 0.6642187\ttotal: 2m 16s\tremaining: 25.3s\n",
      "843:\tlearn: 0.6639772\ttotal: 2m 16s\tremaining: 25.2s\n",
      "844:\tlearn: 0.6636769\ttotal: 2m 16s\tremaining: 25s\n",
      "845:\tlearn: 0.6636290\ttotal: 2m 16s\tremaining: 24.8s\n",
      "846:\tlearn: 0.6634924\ttotal: 2m 16s\tremaining: 24.7s\n",
      "847:\tlearn: 0.6631315\ttotal: 2m 16s\tremaining: 24.5s\n",
      "848:\tlearn: 0.6623625\ttotal: 2m 16s\tremaining: 24.4s\n",
      "849:\tlearn: 0.6623229\ttotal: 2m 17s\tremaining: 24.2s\n",
      "850:\tlearn: 0.6622856\ttotal: 2m 17s\tremaining: 24s\n",
      "851:\tlearn: 0.6617439\ttotal: 2m 17s\tremaining: 23.9s\n",
      "852:\tlearn: 0.6617093\ttotal: 2m 17s\tremaining: 23.7s\n",
      "853:\tlearn: 0.6614085\ttotal: 2m 17s\tremaining: 23.6s\n",
      "854:\tlearn: 0.6613798\ttotal: 2m 17s\tremaining: 23.4s\n",
      "855:\tlearn: 0.6610815\ttotal: 2m 18s\tremaining: 23.2s\n",
      "856:\tlearn: 0.6607782\ttotal: 2m 18s\tremaining: 23.1s\n",
      "857:\tlearn: 0.6604791\ttotal: 2m 18s\tremaining: 22.9s\n",
      "858:\tlearn: 0.6604453\ttotal: 2m 18s\tremaining: 22.8s\n",
      "859:\tlearn: 0.6600609\ttotal: 2m 18s\tremaining: 22.6s\n",
      "860:\tlearn: 0.6597884\ttotal: 2m 19s\tremaining: 22.4s\n",
      "861:\tlearn: 0.6595003\ttotal: 2m 19s\tremaining: 22.3s\n",
      "862:\tlearn: 0.6592574\ttotal: 2m 19s\tremaining: 22.1s\n",
      "863:\tlearn: 0.6589161\ttotal: 2m 19s\tremaining: 22s\n",
      "864:\tlearn: 0.6588551\ttotal: 2m 19s\tremaining: 21.8s\n",
      "865:\tlearn: 0.6588134\ttotal: 2m 19s\tremaining: 21.6s\n",
      "866:\tlearn: 0.6585567\ttotal: 2m 20s\tremaining: 21.5s\n",
      "867:\tlearn: 0.6581699\ttotal: 2m 20s\tremaining: 21.3s\n",
      "868:\tlearn: 0.6576681\ttotal: 2m 20s\tremaining: 21.2s\n",
      "869:\tlearn: 0.6574561\ttotal: 2m 20s\tremaining: 21s\n",
      "870:\tlearn: 0.6571701\ttotal: 2m 20s\tremaining: 20.8s\n",
      "871:\tlearn: 0.6569542\ttotal: 2m 20s\tremaining: 20.7s\n",
      "872:\tlearn: 0.6569227\ttotal: 2m 21s\tremaining: 20.5s\n",
      "873:\tlearn: 0.6568469\ttotal: 2m 21s\tremaining: 20.4s\n",
      "874:\tlearn: 0.6568068\ttotal: 2m 21s\tremaining: 20.2s\n",
      "875:\tlearn: 0.6567416\ttotal: 2m 21s\tremaining: 20s\n",
      "876:\tlearn: 0.6564044\ttotal: 2m 21s\tremaining: 19.9s\n",
      "877:\tlearn: 0.6563714\ttotal: 2m 21s\tremaining: 19.7s\n",
      "878:\tlearn: 0.6561203\ttotal: 2m 21s\tremaining: 19.5s\n",
      "879:\tlearn: 0.6559569\ttotal: 2m 22s\tremaining: 19.4s\n",
      "880:\tlearn: 0.6556349\ttotal: 2m 22s\tremaining: 19.2s\n",
      "881:\tlearn: 0.6555577\ttotal: 2m 22s\tremaining: 19.1s\n",
      "882:\tlearn: 0.6555139\ttotal: 2m 22s\tremaining: 18.9s\n",
      "883:\tlearn: 0.6554684\ttotal: 2m 22s\tremaining: 18.7s\n",
      "884:\tlearn: 0.6549695\ttotal: 2m 22s\tremaining: 18.6s\n",
      "885:\tlearn: 0.6549321\ttotal: 2m 23s\tremaining: 18.4s\n",
      "886:\tlearn: 0.6545214\ttotal: 2m 23s\tremaining: 18.3s\n",
      "887:\tlearn: 0.6542896\ttotal: 2m 23s\tremaining: 18.1s\n",
      "888:\tlearn: 0.6538083\ttotal: 2m 23s\tremaining: 17.9s\n",
      "889:\tlearn: 0.6535694\ttotal: 2m 23s\tremaining: 17.8s\n",
      "890:\tlearn: 0.6535309\ttotal: 2m 24s\tremaining: 17.6s\n",
      "891:\tlearn: 0.6529293\ttotal: 2m 24s\tremaining: 17.5s\n",
      "892:\tlearn: 0.6527423\ttotal: 2m 24s\tremaining: 17.3s\n",
      "893:\tlearn: 0.6525947\ttotal: 2m 24s\tremaining: 17.1s\n",
      "894:\tlearn: 0.6523860\ttotal: 2m 24s\tremaining: 17s\n",
      "895:\tlearn: 0.6521753\ttotal: 2m 24s\tremaining: 16.8s\n",
      "896:\tlearn: 0.6521338\ttotal: 2m 24s\tremaining: 16.6s\n",
      "897:\tlearn: 0.6514078\ttotal: 2m 25s\tremaining: 16.5s\n",
      "898:\tlearn: 0.6506125\ttotal: 2m 25s\tremaining: 16.3s\n",
      "899:\tlearn: 0.6505783\ttotal: 2m 25s\tremaining: 16.2s\n",
      "900:\tlearn: 0.6502318\ttotal: 2m 25s\tremaining: 16s\n",
      "901:\tlearn: 0.6500793\ttotal: 2m 25s\tremaining: 15.8s\n",
      "902:\tlearn: 0.6497828\ttotal: 2m 26s\tremaining: 15.7s\n",
      "903:\tlearn: 0.6495713\ttotal: 2m 26s\tremaining: 15.5s\n",
      "904:\tlearn: 0.6495346\ttotal: 2m 26s\tremaining: 15.4s\n",
      "905:\tlearn: 0.6495002\ttotal: 2m 26s\tremaining: 15.2s\n",
      "906:\tlearn: 0.6490642\ttotal: 2m 26s\tremaining: 15.1s\n",
      "907:\tlearn: 0.6488387\ttotal: 2m 26s\tremaining: 14.9s\n",
      "908:\tlearn: 0.6488029\ttotal: 2m 27s\tremaining: 14.7s\n",
      "909:\tlearn: 0.6484402\ttotal: 2m 27s\tremaining: 14.6s\n",
      "910:\tlearn: 0.6483911\ttotal: 2m 27s\tremaining: 14.4s\n",
      "911:\tlearn: 0.6479599\ttotal: 2m 27s\tremaining: 14.2s\n",
      "912:\tlearn: 0.6476102\ttotal: 2m 27s\tremaining: 14.1s\n",
      "913:\tlearn: 0.6475782\ttotal: 2m 27s\tremaining: 13.9s\n",
      "914:\tlearn: 0.6471947\ttotal: 2m 28s\tremaining: 13.8s\n",
      "915:\tlearn: 0.6469877\ttotal: 2m 28s\tremaining: 13.6s\n",
      "916:\tlearn: 0.6467132\ttotal: 2m 28s\tremaining: 13.4s\n",
      "917:\tlearn: 0.6464937\ttotal: 2m 28s\tremaining: 13.3s\n",
      "918:\tlearn: 0.6462881\ttotal: 2m 28s\tremaining: 13.1s\n",
      "919:\tlearn: 0.6462416\ttotal: 2m 29s\tremaining: 13s\n",
      "920:\tlearn: 0.6461911\ttotal: 2m 29s\tremaining: 12.8s\n",
      "921:\tlearn: 0.6458163\ttotal: 2m 29s\tremaining: 12.6s\n",
      "922:\tlearn: 0.6456376\ttotal: 2m 29s\tremaining: 12.5s\n",
      "923:\tlearn: 0.6453871\ttotal: 2m 29s\tremaining: 12.3s\n",
      "924:\tlearn: 0.6453283\ttotal: 2m 29s\tremaining: 12.2s\n",
      "925:\tlearn: 0.6449763\ttotal: 2m 30s\tremaining: 12s\n",
      "926:\tlearn: 0.6447997\ttotal: 2m 30s\tremaining: 11.8s\n",
      "927:\tlearn: 0.6447404\ttotal: 2m 30s\tremaining: 11.7s\n",
      "928:\tlearn: 0.6445256\ttotal: 2m 30s\tremaining: 11.5s\n",
      "929:\tlearn: 0.6440200\ttotal: 2m 30s\tremaining: 11.4s\n",
      "930:\tlearn: 0.6438055\ttotal: 2m 31s\tremaining: 11.2s\n",
      "931:\tlearn: 0.6434759\ttotal: 2m 31s\tremaining: 11s\n",
      "932:\tlearn: 0.6428330\ttotal: 2m 31s\tremaining: 10.9s\n",
      "933:\tlearn: 0.6426110\ttotal: 2m 31s\tremaining: 10.7s\n",
      "934:\tlearn: 0.6424179\ttotal: 2m 31s\tremaining: 10.5s\n",
      "935:\tlearn: 0.6423856\ttotal: 2m 31s\tremaining: 10.4s\n",
      "936:\tlearn: 0.6423370\ttotal: 2m 32s\tremaining: 10.2s\n",
      "937:\tlearn: 0.6421428\ttotal: 2m 32s\tremaining: 10.1s\n",
      "938:\tlearn: 0.6421043\ttotal: 2m 32s\tremaining: 9.94s\n",
      "939:\tlearn: 0.6418532\ttotal: 2m 33s\tremaining: 9.77s\n",
      "940:\tlearn: 0.6416805\ttotal: 2m 33s\tremaining: 9.61s\n",
      "941:\tlearn: 0.6414955\ttotal: 2m 33s\tremaining: 9.45s\n",
      "942:\tlearn: 0.6414424\ttotal: 2m 33s\tremaining: 9.29s\n",
      "943:\tlearn: 0.6414057\ttotal: 2m 33s\tremaining: 9.12s\n",
      "944:\tlearn: 0.6411611\ttotal: 2m 33s\tremaining: 8.96s\n",
      "945:\tlearn: 0.6411340\ttotal: 2m 34s\tremaining: 8.8s\n",
      "946:\tlearn: 0.6409448\ttotal: 2m 34s\tremaining: 8.64s\n",
      "947:\tlearn: 0.6406989\ttotal: 2m 34s\tremaining: 8.48s\n",
      "948:\tlearn: 0.6402797\ttotal: 2m 34s\tremaining: 8.31s\n",
      "949:\tlearn: 0.6395758\ttotal: 2m 34s\tremaining: 8.15s\n",
      "950:\tlearn: 0.6393612\ttotal: 2m 35s\tremaining: 7.99s\n",
      "951:\tlearn: 0.6391481\ttotal: 2m 35s\tremaining: 7.83s\n",
      "952:\tlearn: 0.6389297\ttotal: 2m 35s\tremaining: 7.67s\n",
      "953:\tlearn: 0.6386872\ttotal: 2m 35s\tremaining: 7.5s\n",
      "954:\tlearn: 0.6384519\ttotal: 2m 35s\tremaining: 7.34s\n",
      "955:\tlearn: 0.6381856\ttotal: 2m 36s\tremaining: 7.18s\n",
      "956:\tlearn: 0.6377668\ttotal: 2m 36s\tremaining: 7.02s\n",
      "957:\tlearn: 0.6375305\ttotal: 2m 36s\tremaining: 6.85s\n",
      "958:\tlearn: 0.6374974\ttotal: 2m 36s\tremaining: 6.69s\n",
      "959:\tlearn: 0.6372327\ttotal: 2m 36s\tremaining: 6.53s\n",
      "960:\tlearn: 0.6370482\ttotal: 2m 36s\tremaining: 6.37s\n",
      "961:\tlearn: 0.6368212\ttotal: 2m 37s\tremaining: 6.21s\n",
      "962:\tlearn: 0.6362792\ttotal: 2m 37s\tremaining: 6.04s\n",
      "963:\tlearn: 0.6361078\ttotal: 2m 37s\tremaining: 5.88s\n",
      "964:\tlearn: 0.6358695\ttotal: 2m 37s\tremaining: 5.72s\n",
      "965:\tlearn: 0.6355328\ttotal: 2m 37s\tremaining: 5.55s\n",
      "966:\tlearn: 0.6353303\ttotal: 2m 38s\tremaining: 5.39s\n",
      "967:\tlearn: 0.6350726\ttotal: 2m 38s\tremaining: 5.23s\n",
      "968:\tlearn: 0.6348730\ttotal: 2m 38s\tremaining: 5.07s\n",
      "969:\tlearn: 0.6348050\ttotal: 2m 38s\tremaining: 4.91s\n",
      "970:\tlearn: 0.6346018\ttotal: 2m 38s\tremaining: 4.74s\n",
      "971:\tlearn: 0.6344463\ttotal: 2m 38s\tremaining: 4.58s\n",
      "972:\tlearn: 0.6342648\ttotal: 2m 39s\tremaining: 4.41s\n",
      "973:\tlearn: 0.6340564\ttotal: 2m 39s\tremaining: 4.25s\n",
      "974:\tlearn: 0.6337935\ttotal: 2m 39s\tremaining: 4.09s\n",
      "975:\tlearn: 0.6336082\ttotal: 2m 39s\tremaining: 3.92s\n",
      "976:\tlearn: 0.6335251\ttotal: 2m 39s\tremaining: 3.76s\n",
      "977:\tlearn: 0.6334957\ttotal: 2m 39s\tremaining: 3.6s\n",
      "978:\tlearn: 0.6333414\ttotal: 2m 40s\tremaining: 3.43s\n",
      "979:\tlearn: 0.6330146\ttotal: 2m 40s\tremaining: 3.27s\n",
      "980:\tlearn: 0.6327573\ttotal: 2m 40s\tremaining: 3.1s\n",
      "981:\tlearn: 0.6325325\ttotal: 2m 40s\tremaining: 2.94s\n",
      "982:\tlearn: 0.6324999\ttotal: 2m 40s\tremaining: 2.78s\n",
      "983:\tlearn: 0.6324526\ttotal: 2m 40s\tremaining: 2.62s\n",
      "984:\tlearn: 0.6323108\ttotal: 2m 40s\tremaining: 2.45s\n",
      "985:\tlearn: 0.6317934\ttotal: 2m 41s\tremaining: 2.29s\n",
      "986:\tlearn: 0.6312997\ttotal: 2m 41s\tremaining: 2.12s\n",
      "987:\tlearn: 0.6310030\ttotal: 2m 41s\tremaining: 1.96s\n",
      "988:\tlearn: 0.6305458\ttotal: 2m 41s\tremaining: 1.8s\n",
      "989:\tlearn: 0.6303865\ttotal: 2m 41s\tremaining: 1.63s\n",
      "990:\tlearn: 0.6300793\ttotal: 2m 42s\tremaining: 1.47s\n",
      "991:\tlearn: 0.6298127\ttotal: 2m 42s\tremaining: 1.31s\n",
      "992:\tlearn: 0.6296052\ttotal: 2m 42s\tremaining: 1.14s\n",
      "993:\tlearn: 0.6294579\ttotal: 2m 42s\tremaining: 981ms\n",
      "994:\tlearn: 0.6293448\ttotal: 2m 42s\tremaining: 817ms\n",
      "995:\tlearn: 0.6289349\ttotal: 2m 42s\tremaining: 654ms\n",
      "996:\tlearn: 0.6286102\ttotal: 2m 42s\tremaining: 490ms\n",
      "997:\tlearn: 0.6283836\ttotal: 2m 43s\tremaining: 327ms\n",
      "998:\tlearn: 0.6283494\ttotal: 2m 43s\tremaining: 163ms\n",
      "999:\tlearn: 0.6282209\ttotal: 2m 43s\tremaining: 0us\n"
     ]
    },
    {
     "data": {
      "text/plain": "<catboost.core.CatBoostClassifier at 0x13a22037490>"
     },
     "execution_count": 72,
     "metadata": {},
     "output_type": "execute_result"
    }
   ],
   "source": [
    "cb.fit(x_train, y_train)"
   ],
   "metadata": {
    "collapsed": false
   }
  },
  {
   "cell_type": "code",
   "execution_count": 73,
   "outputs": [],
   "source": [
    "cb_pred = cb.predict(x_test)"
   ],
   "metadata": {
    "collapsed": false
   }
  },
  {
   "cell_type": "code",
   "execution_count": 74,
   "outputs": [],
   "source": [
    "cb_acc = cb.score(x_test, y_test)"
   ],
   "metadata": {
    "collapsed": false
   }
  },
  {
   "cell_type": "code",
   "execution_count": 75,
   "outputs": [],
   "source": [
    "model_accuracy['CatBoost'] = cb_acc"
   ],
   "metadata": {
    "collapsed": false
   }
  },
  {
   "cell_type": "code",
   "execution_count": 76,
   "outputs": [
    {
     "data": {
      "text/plain": "0.6783861671469741"
     },
     "execution_count": 76,
     "metadata": {},
     "output_type": "execute_result"
    }
   ],
   "source": [
    "cb_acc"
   ],
   "metadata": {
    "collapsed": false
   }
  },
  {
   "cell_type": "markdown",
   "source": [
    "## Model Comparison"
   ],
   "metadata": {
    "collapsed": false
   }
  },
  {
   "cell_type": "code",
   "execution_count": 77,
   "outputs": [
    {
     "data": {
      "text/plain": "{'Logistic Regression': 0.6530259365994237,\n 'Random Forest': 0.5510086455331412,\n 'XGBoost': 0.6570605187319885,\n 'Naive Bayes': 0.37694524495677234,\n 'SVM': 0.652449567723343,\n 'CatBoost': 0.6783861671469741}"
     },
     "execution_count": 77,
     "metadata": {},
     "output_type": "execute_result"
    }
   ],
   "source": [
    "model_accuracy"
   ],
   "metadata": {
    "collapsed": false
   }
  },
  {
   "cell_type": "code",
   "execution_count": 82,
   "outputs": [],
   "source": [
    "model_accuracy = pd.DataFrame(model_accuracy.items(), columns=['Model', 'Accuracy'])"
   ],
   "metadata": {
    "collapsed": false
   }
  },
  {
   "cell_type": "code",
   "execution_count": 85,
   "outputs": [
    {
     "data": {
      "text/plain": "<pandas.io.formats.style.Styler at 0x13a40199a60>",
      "text/html": "<style type=\"text/css\">\n#T_d0304_row0_col1 {\n  background-color: #08306b;\n  color: #f1f1f1;\n}\n#T_d0304_row1_col1 {\n  background-color: #084387;\n  color: #f1f1f1;\n}\n#T_d0304_row2_col1 {\n  background-color: #08468b;\n  color: #f1f1f1;\n}\n#T_d0304_row3_col1 {\n  background-color: #08478d;\n  color: #f1f1f1;\n}\n#T_d0304_row4_col1 {\n  background-color: #529dcc;\n  color: #f1f1f1;\n}\n#T_d0304_row5_col1 {\n  background-color: #f7fbff;\n  color: #000000;\n}\n</style>\n<table id=\"T_d0304\">\n  <thead>\n    <tr>\n      <th class=\"blank level0\" >&nbsp;</th>\n      <th id=\"T_d0304_level0_col0\" class=\"col_heading level0 col0\" >Model</th>\n      <th id=\"T_d0304_level0_col1\" class=\"col_heading level0 col1\" >Accuracy</th>\n    </tr>\n  </thead>\n  <tbody>\n    <tr>\n      <th id=\"T_d0304_level0_row0\" class=\"row_heading level0 row0\" >0</th>\n      <td id=\"T_d0304_row0_col0\" class=\"data row0 col0\" >CatBoost</td>\n      <td id=\"T_d0304_row0_col1\" class=\"data row0 col1\" >0.678386</td>\n    </tr>\n    <tr>\n      <th id=\"T_d0304_level0_row1\" class=\"row_heading level0 row1\" >1</th>\n      <td id=\"T_d0304_row1_col0\" class=\"data row1 col0\" >XGBoost</td>\n      <td id=\"T_d0304_row1_col1\" class=\"data row1 col1\" >0.657061</td>\n    </tr>\n    <tr>\n      <th id=\"T_d0304_level0_row2\" class=\"row_heading level0 row2\" >2</th>\n      <td id=\"T_d0304_row2_col0\" class=\"data row2 col0\" >Logistic Regression</td>\n      <td id=\"T_d0304_row2_col1\" class=\"data row2 col1\" >0.653026</td>\n    </tr>\n    <tr>\n      <th id=\"T_d0304_level0_row3\" class=\"row_heading level0 row3\" >3</th>\n      <td id=\"T_d0304_row3_col0\" class=\"data row3 col0\" >SVM</td>\n      <td id=\"T_d0304_row3_col1\" class=\"data row3 col1\" >0.652450</td>\n    </tr>\n    <tr>\n      <th id=\"T_d0304_level0_row4\" class=\"row_heading level0 row4\" >4</th>\n      <td id=\"T_d0304_row4_col0\" class=\"data row4 col0\" >Random Forest</td>\n      <td id=\"T_d0304_row4_col1\" class=\"data row4 col1\" >0.551009</td>\n    </tr>\n    <tr>\n      <th id=\"T_d0304_level0_row5\" class=\"row_heading level0 row5\" >5</th>\n      <td id=\"T_d0304_row5_col0\" class=\"data row5 col0\" >Naive Bayes</td>\n      <td id=\"T_d0304_row5_col1\" class=\"data row5 col1\" >0.376945</td>\n    </tr>\n  </tbody>\n</table>\n"
     },
     "execution_count": 85,
     "metadata": {},
     "output_type": "execute_result"
    }
   ],
   "source": [
    "model_accuracy.sort_values(by='Accuracy',ascending=False,ignore_index=True).style.background_gradient(cmap='Blues')"
   ],
   "metadata": {
    "collapsed": false
   }
  }
 ],
 "metadata": {
  "kernelspec": {
   "display_name": "Python 3",
   "language": "python",
   "name": "python3"
  },
  "language_info": {
   "codemirror_mode": {
    "name": "ipython",
    "version": 2
   },
   "file_extension": ".py",
   "mimetype": "text/x-python",
   "name": "python",
   "nbconvert_exporter": "python",
   "pygments_lexer": "ipython2",
   "version": "2.7.6"
  }
 },
 "nbformat": 4,
 "nbformat_minor": 0
}
